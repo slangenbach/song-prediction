{
 "cells": [
  {
   "cell_type": "markdown",
   "metadata": {},
   "source": [
    "# Song prediction case study"
   ]
  },
  {
   "cell_type": "markdown",
   "metadata": {},
   "source": [
    "## Setup"
   ]
  },
  {
   "cell_type": "code",
   "execution_count": 1,
   "metadata": {},
   "outputs": [],
   "source": [
    "from pathlib import Path\n",
    "import pandas as pd\n",
    "import matplotlib as mpl\n",
    "import matplotlib.pylab as plt\n",
    "from sklearn.model_selection import train_test_split"
   ]
  },
  {
   "cell_type": "code",
   "execution_count": 2,
   "metadata": {},
   "outputs": [],
   "source": [
    "mpl.style.use(\"seaborn-colorblind\")"
   ]
  },
  {
   "cell_type": "code",
   "execution_count": 3,
   "metadata": {},
   "outputs": [],
   "source": [
    "root_path = Path().cwd().parent\n",
    "raw_data_path = root_path/\"data/raw/\"\n",
    "interim_data_path = root_path/\"data/interim\""
   ]
  },
  {
   "cell_type": "markdown",
   "metadata": {},
   "source": [
    "## Load data"
   ]
  },
  {
   "cell_type": "code",
   "execution_count": 4,
   "metadata": {},
   "outputs": [],
   "source": [
    "df = pd.read_csv(raw_data_path/\"YearPredictionMSD.txt\")"
   ]
  },
  {
   "cell_type": "code",
   "execution_count": 5,
   "metadata": {},
   "outputs": [
    {
     "data": {
      "text/plain": [
       "(515344, 91)"
      ]
     },
     "execution_count": 5,
     "metadata": {},
     "output_type": "execute_result"
    }
   ],
   "source": [
    "df.shape"
   ]
  },
  {
   "cell_type": "markdown",
   "metadata": {},
   "source": [
    "### Apply schema\n",
    "Naming according to [authors](https://archive.ics.uci.edu/ml/datasets/YearPredictionMSD) *attribute information*  \n",
    "\"In simple terms, timbre is what makes a particular musical instrument or human voice have a different sound from another, even when they play or sing the same note\" ([Wikipedia on Timbre](https://en.wikipedia.org/wiki/Timbre))"
   ]
  },
  {
   "cell_type": "code",
   "execution_count": 6,
   "metadata": {},
   "outputs": [],
   "source": [
    "schema = [\"year\"] + [f\"feat_{n}\" for n in range(df.shape[1] -1)]"
   ]
  },
  {
   "cell_type": "code",
   "execution_count": 7,
   "metadata": {},
   "outputs": [],
   "source": [
    "df.columns = schema"
   ]
  },
  {
   "cell_type": "code",
   "execution_count": 8,
   "metadata": {},
   "outputs": [
    {
     "data": {
      "text/html": [
       "<div>\n",
       "<style scoped>\n",
       "    .dataframe tbody tr th:only-of-type {\n",
       "        vertical-align: middle;\n",
       "    }\n",
       "\n",
       "    .dataframe tbody tr th {\n",
       "        vertical-align: top;\n",
       "    }\n",
       "\n",
       "    .dataframe thead th {\n",
       "        text-align: right;\n",
       "    }\n",
       "</style>\n",
       "<table border=\"1\" class=\"dataframe\">\n",
       "  <thead>\n",
       "    <tr style=\"text-align: right;\">\n",
       "      <th></th>\n",
       "      <th>year</th>\n",
       "      <th>feat_0</th>\n",
       "      <th>feat_1</th>\n",
       "      <th>feat_2</th>\n",
       "      <th>feat_3</th>\n",
       "      <th>feat_4</th>\n",
       "      <th>feat_5</th>\n",
       "      <th>feat_6</th>\n",
       "      <th>feat_7</th>\n",
       "      <th>feat_8</th>\n",
       "      <th>...</th>\n",
       "      <th>feat_80</th>\n",
       "      <th>feat_81</th>\n",
       "      <th>feat_82</th>\n",
       "      <th>feat_83</th>\n",
       "      <th>feat_84</th>\n",
       "      <th>feat_85</th>\n",
       "      <th>feat_86</th>\n",
       "      <th>feat_87</th>\n",
       "      <th>feat_88</th>\n",
       "      <th>feat_89</th>\n",
       "    </tr>\n",
       "  </thead>\n",
       "  <tbody>\n",
       "    <tr>\n",
       "      <th>0</th>\n",
       "      <td>2001</td>\n",
       "      <td>48.73215</td>\n",
       "      <td>18.42930</td>\n",
       "      <td>70.32679</td>\n",
       "      <td>12.94636</td>\n",
       "      <td>-10.32437</td>\n",
       "      <td>-24.83777</td>\n",
       "      <td>8.76630</td>\n",
       "      <td>-0.92019</td>\n",
       "      <td>18.76548</td>\n",
       "      <td>...</td>\n",
       "      <td>5.66812</td>\n",
       "      <td>-19.68073</td>\n",
       "      <td>33.04964</td>\n",
       "      <td>42.87836</td>\n",
       "      <td>-9.90378</td>\n",
       "      <td>-32.22788</td>\n",
       "      <td>70.49388</td>\n",
       "      <td>12.04941</td>\n",
       "      <td>58.43453</td>\n",
       "      <td>26.92061</td>\n",
       "    </tr>\n",
       "    <tr>\n",
       "      <th>1</th>\n",
       "      <td>2001</td>\n",
       "      <td>50.95714</td>\n",
       "      <td>31.85602</td>\n",
       "      <td>55.81851</td>\n",
       "      <td>13.41693</td>\n",
       "      <td>-6.57898</td>\n",
       "      <td>-18.54940</td>\n",
       "      <td>-3.27872</td>\n",
       "      <td>-2.35035</td>\n",
       "      <td>16.07017</td>\n",
       "      <td>...</td>\n",
       "      <td>3.03800</td>\n",
       "      <td>26.05866</td>\n",
       "      <td>-50.92779</td>\n",
       "      <td>10.93792</td>\n",
       "      <td>-0.07568</td>\n",
       "      <td>43.20130</td>\n",
       "      <td>-115.00698</td>\n",
       "      <td>-0.05859</td>\n",
       "      <td>39.67068</td>\n",
       "      <td>-0.66345</td>\n",
       "    </tr>\n",
       "    <tr>\n",
       "      <th>2</th>\n",
       "      <td>2001</td>\n",
       "      <td>48.24750</td>\n",
       "      <td>-1.89837</td>\n",
       "      <td>36.29772</td>\n",
       "      <td>2.58776</td>\n",
       "      <td>0.97170</td>\n",
       "      <td>-26.21683</td>\n",
       "      <td>5.05097</td>\n",
       "      <td>-10.34124</td>\n",
       "      <td>3.55005</td>\n",
       "      <td>...</td>\n",
       "      <td>34.57337</td>\n",
       "      <td>-171.70734</td>\n",
       "      <td>-16.96705</td>\n",
       "      <td>-46.67617</td>\n",
       "      <td>-12.51516</td>\n",
       "      <td>82.58061</td>\n",
       "      <td>-72.08993</td>\n",
       "      <td>9.90558</td>\n",
       "      <td>199.62971</td>\n",
       "      <td>18.85382</td>\n",
       "    </tr>\n",
       "    <tr>\n",
       "      <th>3</th>\n",
       "      <td>2001</td>\n",
       "      <td>50.97020</td>\n",
       "      <td>42.20998</td>\n",
       "      <td>67.09964</td>\n",
       "      <td>8.46791</td>\n",
       "      <td>-15.85279</td>\n",
       "      <td>-16.81409</td>\n",
       "      <td>-12.48207</td>\n",
       "      <td>-9.37636</td>\n",
       "      <td>12.63699</td>\n",
       "      <td>...</td>\n",
       "      <td>9.92661</td>\n",
       "      <td>-55.95724</td>\n",
       "      <td>64.92712</td>\n",
       "      <td>-17.72522</td>\n",
       "      <td>-1.49237</td>\n",
       "      <td>-7.50035</td>\n",
       "      <td>51.76631</td>\n",
       "      <td>7.88713</td>\n",
       "      <td>55.66926</td>\n",
       "      <td>28.74903</td>\n",
       "    </tr>\n",
       "    <tr>\n",
       "      <th>4</th>\n",
       "      <td>2001</td>\n",
       "      <td>50.54767</td>\n",
       "      <td>0.31568</td>\n",
       "      <td>92.35066</td>\n",
       "      <td>22.38696</td>\n",
       "      <td>-25.51870</td>\n",
       "      <td>-19.04928</td>\n",
       "      <td>20.67345</td>\n",
       "      <td>-5.19943</td>\n",
       "      <td>3.63566</td>\n",
       "      <td>...</td>\n",
       "      <td>6.59753</td>\n",
       "      <td>-50.69577</td>\n",
       "      <td>26.02574</td>\n",
       "      <td>18.94430</td>\n",
       "      <td>-0.33730</td>\n",
       "      <td>6.09352</td>\n",
       "      <td>35.18381</td>\n",
       "      <td>5.00283</td>\n",
       "      <td>-11.02257</td>\n",
       "      <td>0.02263</td>\n",
       "    </tr>\n",
       "  </tbody>\n",
       "</table>\n",
       "<p>5 rows × 91 columns</p>\n",
       "</div>"
      ],
      "text/plain": [
       "   year    feat_0    feat_1    feat_2    feat_3    feat_4    feat_5    feat_6  \\\n",
       "0  2001  48.73215  18.42930  70.32679  12.94636 -10.32437 -24.83777   8.76630   \n",
       "1  2001  50.95714  31.85602  55.81851  13.41693  -6.57898 -18.54940  -3.27872   \n",
       "2  2001  48.24750  -1.89837  36.29772   2.58776   0.97170 -26.21683   5.05097   \n",
       "3  2001  50.97020  42.20998  67.09964   8.46791 -15.85279 -16.81409 -12.48207   \n",
       "4  2001  50.54767   0.31568  92.35066  22.38696 -25.51870 -19.04928  20.67345   \n",
       "\n",
       "     feat_7    feat_8  ...   feat_80    feat_81   feat_82   feat_83   feat_84  \\\n",
       "0  -0.92019  18.76548  ...   5.66812  -19.68073  33.04964  42.87836  -9.90378   \n",
       "1  -2.35035  16.07017  ...   3.03800   26.05866 -50.92779  10.93792  -0.07568   \n",
       "2 -10.34124   3.55005  ...  34.57337 -171.70734 -16.96705 -46.67617 -12.51516   \n",
       "3  -9.37636  12.63699  ...   9.92661  -55.95724  64.92712 -17.72522  -1.49237   \n",
       "4  -5.19943   3.63566  ...   6.59753  -50.69577  26.02574  18.94430  -0.33730   \n",
       "\n",
       "    feat_85    feat_86   feat_87    feat_88   feat_89  \n",
       "0 -32.22788   70.49388  12.04941   58.43453  26.92061  \n",
       "1  43.20130 -115.00698  -0.05859   39.67068  -0.66345  \n",
       "2  82.58061  -72.08993   9.90558  199.62971  18.85382  \n",
       "3  -7.50035   51.76631   7.88713   55.66926  28.74903  \n",
       "4   6.09352   35.18381   5.00283  -11.02257   0.02263  \n",
       "\n",
       "[5 rows x 91 columns]"
      ]
     },
     "execution_count": 8,
     "metadata": {},
     "output_type": "execute_result"
    }
   ],
   "source": [
    "df.head()"
   ]
  },
  {
   "cell_type": "code",
   "execution_count": 9,
   "metadata": {},
   "outputs": [
    {
     "name": "stdout",
     "output_type": "stream",
     "text": [
      "<class 'pandas.core.frame.DataFrame'>\n",
      "RangeIndex: 515344 entries, 0 to 515343\n",
      "Data columns (total 91 columns):\n",
      " #   Column   Non-Null Count   Dtype  \n",
      "---  ------   --------------   -----  \n",
      " 0   year     515344 non-null  int64  \n",
      " 1   feat_0   515344 non-null  float64\n",
      " 2   feat_1   515344 non-null  float64\n",
      " 3   feat_2   515344 non-null  float64\n",
      " 4   feat_3   515344 non-null  float64\n",
      " 5   feat_4   515344 non-null  float64\n",
      " 6   feat_5   515344 non-null  float64\n",
      " 7   feat_6   515344 non-null  float64\n",
      " 8   feat_7   515344 non-null  float64\n",
      " 9   feat_8   515344 non-null  float64\n",
      " 10  feat_9   515344 non-null  float64\n",
      " 11  feat_10  515344 non-null  float64\n",
      " 12  feat_11  515344 non-null  float64\n",
      " 13  feat_12  515344 non-null  float64\n",
      " 14  feat_13  515344 non-null  float64\n",
      " 15  feat_14  515344 non-null  float64\n",
      " 16  feat_15  515344 non-null  float64\n",
      " 17  feat_16  515344 non-null  float64\n",
      " 18  feat_17  515344 non-null  float64\n",
      " 19  feat_18  515344 non-null  float64\n",
      " 20  feat_19  515344 non-null  float64\n",
      " 21  feat_20  515344 non-null  float64\n",
      " 22  feat_21  515344 non-null  float64\n",
      " 23  feat_22  515344 non-null  float64\n",
      " 24  feat_23  515344 non-null  float64\n",
      " 25  feat_24  515344 non-null  float64\n",
      " 26  feat_25  515344 non-null  float64\n",
      " 27  feat_26  515344 non-null  float64\n",
      " 28  feat_27  515344 non-null  float64\n",
      " 29  feat_28  515344 non-null  float64\n",
      " 30  feat_29  515344 non-null  float64\n",
      " 31  feat_30  515344 non-null  float64\n",
      " 32  feat_31  515344 non-null  float64\n",
      " 33  feat_32  515344 non-null  float64\n",
      " 34  feat_33  515344 non-null  float64\n",
      " 35  feat_34  515344 non-null  float64\n",
      " 36  feat_35  515344 non-null  float64\n",
      " 37  feat_36  515344 non-null  float64\n",
      " 38  feat_37  515344 non-null  float64\n",
      " 39  feat_38  515344 non-null  float64\n",
      " 40  feat_39  515344 non-null  float64\n",
      " 41  feat_40  515344 non-null  float64\n",
      " 42  feat_41  515344 non-null  float64\n",
      " 43  feat_42  515344 non-null  float64\n",
      " 44  feat_43  515344 non-null  float64\n",
      " 45  feat_44  515344 non-null  float64\n",
      " 46  feat_45  515344 non-null  float64\n",
      " 47  feat_46  515344 non-null  float64\n",
      " 48  feat_47  515344 non-null  float64\n",
      " 49  feat_48  515344 non-null  float64\n",
      " 50  feat_49  515344 non-null  float64\n",
      " 51  feat_50  515344 non-null  float64\n",
      " 52  feat_51  515344 non-null  float64\n",
      " 53  feat_52  515344 non-null  float64\n",
      " 54  feat_53  515344 non-null  float64\n",
      " 55  feat_54  515344 non-null  float64\n",
      " 56  feat_55  515344 non-null  float64\n",
      " 57  feat_56  515344 non-null  float64\n",
      " 58  feat_57  515344 non-null  float64\n",
      " 59  feat_58  515344 non-null  float64\n",
      " 60  feat_59  515344 non-null  float64\n",
      " 61  feat_60  515344 non-null  float64\n",
      " 62  feat_61  515344 non-null  float64\n",
      " 63  feat_62  515344 non-null  float64\n",
      " 64  feat_63  515344 non-null  float64\n",
      " 65  feat_64  515344 non-null  float64\n",
      " 66  feat_65  515344 non-null  float64\n",
      " 67  feat_66  515344 non-null  float64\n",
      " 68  feat_67  515344 non-null  float64\n",
      " 69  feat_68  515344 non-null  float64\n",
      " 70  feat_69  515344 non-null  float64\n",
      " 71  feat_70  515344 non-null  float64\n",
      " 72  feat_71  515344 non-null  float64\n",
      " 73  feat_72  515344 non-null  float64\n",
      " 74  feat_73  515344 non-null  float64\n",
      " 75  feat_74  515344 non-null  float64\n",
      " 76  feat_75  515344 non-null  float64\n",
      " 77  feat_76  515344 non-null  float64\n",
      " 78  feat_77  515344 non-null  float64\n",
      " 79  feat_78  515344 non-null  float64\n",
      " 80  feat_79  515344 non-null  float64\n",
      " 81  feat_80  515344 non-null  float64\n",
      " 82  feat_81  515344 non-null  float64\n",
      " 83  feat_82  515344 non-null  float64\n",
      " 84  feat_83  515344 non-null  float64\n",
      " 85  feat_84  515344 non-null  float64\n",
      " 86  feat_85  515344 non-null  float64\n",
      " 87  feat_86  515344 non-null  float64\n",
      " 88  feat_87  515344 non-null  float64\n",
      " 89  feat_88  515344 non-null  float64\n",
      " 90  feat_89  515344 non-null  float64\n",
      "dtypes: float64(90), int64(1)\n",
      "memory usage: 357.8 MB\n"
     ]
    }
   ],
   "source": [
    "df.info()"
   ]
  },
  {
   "cell_type": "markdown",
   "metadata": {},
   "source": [
    "## Split into training/validation/test set\n",
    "Splitting according to instruction given by [authors](https://archive.ics.uci.edu/ml/datasets/YearPredictionMSD#) in order to avoid *producer effect*"
   ]
  },
  {
   "cell_type": "code",
   "execution_count": 10,
   "metadata": {},
   "outputs": [],
   "source": [
    "train_df = df.iloc[:463715]; "
   ]
  },
  {
   "cell_type": "code",
   "execution_count": 11,
   "metadata": {},
   "outputs": [],
   "source": [
    "remaining_df = df.iloc[463715:]"
   ]
  },
  {
   "cell_type": "code",
   "execution_count": 12,
   "metadata": {},
   "outputs": [
    {
     "data": {
      "text/plain": [
       "True"
      ]
     },
     "execution_count": 12,
     "metadata": {},
     "output_type": "execute_result"
    }
   ],
   "source": [
    "train_df.shape[0] + remaining_df.shape[0] == df.shape[0]"
   ]
  },
  {
   "cell_type": "code",
   "execution_count": 13,
   "metadata": {},
   "outputs": [],
   "source": [
    "valid_df, test_df = train_test_split(remaining_df, test_size=0.1, random_state=1337)"
   ]
  },
  {
   "cell_type": "code",
   "execution_count": 14,
   "metadata": {},
   "outputs": [],
   "source": [
    "dfs = [train_df, valid_df, test_df]\n",
    "train_df.name = \"train\"\n",
    "valid_df.name = \"valid\"\n",
    "test_df.name = \"test\""
   ]
  },
  {
   "cell_type": "code",
   "execution_count": 15,
   "metadata": {},
   "outputs": [
    {
     "name": "stdout",
     "output_type": "stream",
     "text": [
      "train (463715, 91)\n",
      "valid (46466, 91)\n",
      "test (5163, 91)\n"
     ]
    }
   ],
   "source": [
    "for df in dfs:\n",
    "    print(df.name, df.shape)"
   ]
  },
  {
   "cell_type": "code",
   "execution_count": 16,
   "metadata": {},
   "outputs": [],
   "source": [
    "for df in dfs:\n",
    "    df.to_csv(interim_data_path/f\"{df.name}.csv\", index=False, header=True)"
   ]
  },
  {
   "cell_type": "markdown",
   "metadata": {},
   "source": [
    "## Exploration"
   ]
  },
  {
   "cell_type": "code",
   "execution_count": 130,
   "metadata": {},
   "outputs": [
    {
     "data": {
      "text/plain": [
       "89"
      ]
     },
     "execution_count": 130,
     "metadata": {},
     "output_type": "execute_result"
    }
   ],
   "source": [
    "train_df['year'].nunique()"
   ]
  },
  {
   "cell_type": "code",
   "execution_count": 131,
   "metadata": {},
   "outputs": [
    {
     "data": {
      "text/plain": [
       "2007    35376\n",
       "2006    33824\n",
       "2005    31454\n",
       "2008    31244\n",
       "2009    27907\n",
       "        ...  \n",
       "1925        7\n",
       "1922        6\n",
       "1933        6\n",
       "1924        5\n",
       "2011        1\n",
       "Name: year, Length: 89, dtype: int64"
      ]
     },
     "execution_count": 131,
     "metadata": {},
     "output_type": "execute_result"
    }
   ],
   "source": [
    "train_df[\"year\"].value_counts(normalize=False)"
   ]
  },
  {
   "cell_type": "code",
   "execution_count": 138,
   "metadata": {},
   "outputs": [
    {
     "data": {
      "text/plain": [
       "array([[<matplotlib.axes._subplots.AxesSubplot object at 0x7f4c34331278>]],\n",
       "      dtype=object)"
      ]
     },
     "execution_count": 138,
     "metadata": {},
     "output_type": "execute_result"
    },
    {
     "data": {
      "image/png": "[encoded data removed]",
      "text/plain": [
       "<Figure size 432x288 with 1 Axes>"
      ]
     },
     "metadata": {
      "needs_background": "light"
     },
     "output_type": "display_data"
    }
   ],
   "source": [
    "train_df.hist(column=\"year\", grid=False, bins=10)"
   ]
  },
  {
   "cell_type": "code",
   "execution_count": 149,
   "metadata": {},
   "outputs": [],
   "source": [
    "def classify_decade(year: int):\n",
    "    if year >= 1950 and year < 1960:\n",
    "        return \"fifties\"\n",
    "    elif year >= 1960 and year < 1970:\n",
    "        return \"sixties\"\n",
    "    elif year >= 1970 and year < 1980:\n",
    "        return \"seventies\"\n",
    "    elif year >= 1980 and year < 1990:\n",
    "        return \"eighties\"\n",
    "    elif year >= 1990 and year < 2000:\n",
    "        return \"nineties\"\n",
    "    elif year >= 2000:\n",
    "        return \"millenium\"\n",
    "    else:\n",
    "        return \"forties or older\""
   ]
  },
  {
   "cell_type": "code",
   "execution_count": 158,
   "metadata": {},
   "outputs": [],
   "source": [
    "train_df[\"decade\"] = train_df[\"year\"].apply(classify_decade)"
   ]
  },
  {
   "cell_type": "code",
   "execution_count": 161,
   "metadata": {},
   "outputs": [
    {
     "data": {
      "text/plain": [
       "millenium           0.598389\n",
       "nineties            0.241814\n",
       "eighties            0.081112\n",
       "seventies           0.048196\n",
       "sixties             0.022801\n",
       "fifties             0.006096\n",
       "forties or older    0.001591\n",
       "Name: decade, dtype: float64"
      ]
     },
     "execution_count": 161,
     "metadata": {},
     "output_type": "execute_result"
    }
   ],
   "source": [
    "train_df[\"decade\"].value_counts(normalize=True)"
   ]
  },
  {
   "cell_type": "code",
   "execution_count": 165,
   "metadata": {},
   "outputs": [
    {
     "data": {
      "text/plain": [
       "<matplotlib.axes._subplots.AxesSubplot at 0x7f4c33746f28>"
      ]
     },
     "execution_count": 165,
     "metadata": {},
     "output_type": "execute_result"
    },
    {
     "data": {
      "image/png": "[encoded data removed]",
      "text/plain": [
       "<Figure size 432x288 with 1 Axes>"
      ]
     },
     "metadata": {
      "needs_background": "light"
     },
     "output_type": "display_data"
    }
   ],
   "source": [
    "train_df[\"decade\"].value_counts().plot(kind=\"barh\", title=\"Count of songs by decade\")"
   ]
  },
  {
   "cell_type": "code",
   "execution_count": 113,
   "metadata": {},
   "outputs": [],
   "source": [
    "# Need to use librosa to visualize timbre features"
   ]
  }
 ],
 "metadata": {
  "kernelspec": {
   "display_name": "conda_python3",
   "language": "python",
   "name": "conda_python3"
  },
  "language_info": {
   "codemirror_mode": {
    "name": "ipython",
    "version": 3
   },
   "file_extension": ".py",
   "mimetype": "text/x-python",
   "name": "python",
   "nbconvert_exporter": "python",
   "pygments_lexer": "ipython3",
   "version": "3.6.10"
  }
 },
 "nbformat": 4,
 "nbformat_minor": 4
}
