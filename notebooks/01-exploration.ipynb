{
 "cells": [
  {
   "cell_type": "markdown",
   "metadata": {},
   "source": [
    "# Song prediction case study"
   ]
  },
  {
   "cell_type": "markdown",
   "metadata": {},
   "source": [
    "## Setup"
   ]
  },
  {
   "cell_type": "code",
   "execution_count": 114,
   "metadata": {},
   "outputs": [],
   "source": [
    "import pandas as pd\n",
    "import matplotlib as mpl\n",
    "import matplotlib.pylab as plt\n",
    "from pathlib import Path\n",
    "from sklearn.model_selection import train_test_split"
   ]
  },
  {
   "cell_type": "code",
   "execution_count": 115,
   "metadata": {},
   "outputs": [],
   "source": [
    "mpl.style.use(\"seaborn-colorblind\")"
   ]
  },
  {
   "cell_type": "code",
   "execution_count": 118,
   "metadata": {},
   "outputs": [],
   "source": [
    "root_path = Path().cwd().parent\n",
    "data_path = root_path/\"data/raw/\""
   ]
  },
  {
   "cell_type": "markdown",
   "metadata": {},
   "source": [
    "## Load data"
   ]
  },
  {
   "cell_type": "code",
   "execution_count": 35,
   "metadata": {},
   "outputs": [],
   "source": [
    "df = pd.read_csv(data_path/\"YearPredictionMSD.txt\")"
   ]
  },
  {
   "cell_type": "code",
   "execution_count": 37,
   "metadata": {},
   "outputs": [
    {
     "data": {
      "text/plain": [
       "(515344, 91)"
      ]
     },
     "execution_count": 37,
     "metadata": {},
     "output_type": "execute_result"
    }
   ],
   "source": [
    "df.shape"
   ]
  },
  {
   "cell_type": "markdown",
   "metadata": {},
   "source": [
    "### Apply schema\n",
    "Naming according to [authors](https://archive.ics.uci.edu/ml/datasets/YearPredictionMSD) *attribute information*  \n",
    "\"In simple terms, timbre is what makes a particular musical instrument or human voice have a different sound from another, even when they play or sing the same note\" ([Wikipedia on Timbre](https://en.wikipedia.org/wiki/Timbre))"
   ]
  },
  {
   "cell_type": "code",
   "execution_count": 107,
   "metadata": {},
   "outputs": [],
   "source": [
    "schema = [\"year\"] + [f\"feat_{n}\" for n in range(df.shape[1] -1)]"
   ]
  },
  {
   "cell_type": "code",
   "execution_count": 108,
   "metadata": {},
   "outputs": [],
   "source": [
    "df.columns = schema"
   ]
  },
  {
   "cell_type": "code",
   "execution_count": 109,
   "metadata": {},
   "outputs": [
    {
     "data": {
      "text/html": [
       "<div>\n",
       "<style scoped>\n",
       "    .dataframe tbody tr th:only-of-type {\n",
       "        vertical-align: middle;\n",
       "    }\n",
       "\n",
       "    .dataframe tbody tr th {\n",
       "        vertical-align: top;\n",
       "    }\n",
       "\n",
       "    .dataframe thead th {\n",
       "        text-align: right;\n",
       "    }\n",
       "</style>\n",
       "<table border=\"1\" class=\"dataframe\">\n",
       "  <thead>\n",
       "    <tr style=\"text-align: right;\">\n",
       "      <th></th>\n",
       "      <th>year</th>\n",
       "      <th>feat_0</th>\n",
       "      <th>feat_1</th>\n",
       "      <th>feat_2</th>\n",
       "      <th>feat_3</th>\n",
       "      <th>feat_4</th>\n",
       "      <th>feat_5</th>\n",
       "      <th>feat_6</th>\n",
       "      <th>feat_7</th>\n",
       "      <th>feat_8</th>\n",
       "      <th>...</th>\n",
       "      <th>feat_80</th>\n",
       "      <th>feat_81</th>\n",
       "      <th>feat_82</th>\n",
       "      <th>feat_83</th>\n",
       "      <th>feat_84</th>\n",
       "      <th>feat_85</th>\n",
       "      <th>feat_86</th>\n",
       "      <th>feat_87</th>\n",
       "      <th>feat_88</th>\n",
       "      <th>feat_89</th>\n",
       "    </tr>\n",
       "  </thead>\n",
       "  <tbody>\n",
       "    <tr>\n",
       "      <th>492761</th>\n",
       "      <td>1989</td>\n",
       "      <td>45.98989</td>\n",
       "      <td>68.43731</td>\n",
       "      <td>50.71155</td>\n",
       "      <td>12.69610</td>\n",
       "      <td>-43.02829</td>\n",
       "      <td>-1.69011</td>\n",
       "      <td>-9.38475</td>\n",
       "      <td>2.41818</td>\n",
       "      <td>12.58953</td>\n",
       "      <td>...</td>\n",
       "      <td>17.26491</td>\n",
       "      <td>-95.97911</td>\n",
       "      <td>87.46539</td>\n",
       "      <td>61.98300</td>\n",
       "      <td>8.39552</td>\n",
       "      <td>241.97244</td>\n",
       "      <td>-5.14548</td>\n",
       "      <td>20.30374</td>\n",
       "      <td>-43.70390</td>\n",
       "      <td>1.05995</td>\n",
       "    </tr>\n",
       "    <tr>\n",
       "      <th>512364</th>\n",
       "      <td>2004</td>\n",
       "      <td>40.31978</td>\n",
       "      <td>-70.94339</td>\n",
       "      <td>-19.82559</td>\n",
       "      <td>-15.23644</td>\n",
       "      <td>2.61526</td>\n",
       "      <td>-8.95776</td>\n",
       "      <td>-5.80873</td>\n",
       "      <td>-14.96032</td>\n",
       "      <td>13.77726</td>\n",
       "      <td>...</td>\n",
       "      <td>56.79234</td>\n",
       "      <td>112.32934</td>\n",
       "      <td>13.20738</td>\n",
       "      <td>81.58860</td>\n",
       "      <td>15.49371</td>\n",
       "      <td>-28.47310</td>\n",
       "      <td>42.80386</td>\n",
       "      <td>-7.48103</td>\n",
       "      <td>29.19382</td>\n",
       "      <td>-10.63088</td>\n",
       "    </tr>\n",
       "    <tr>\n",
       "      <th>492093</th>\n",
       "      <td>2002</td>\n",
       "      <td>48.05087</td>\n",
       "      <td>8.32131</td>\n",
       "      <td>13.66158</td>\n",
       "      <td>0.42081</td>\n",
       "      <td>-9.20881</td>\n",
       "      <td>-19.03846</td>\n",
       "      <td>10.22317</td>\n",
       "      <td>3.47998</td>\n",
       "      <td>4.24750</td>\n",
       "      <td>...</td>\n",
       "      <td>-11.60396</td>\n",
       "      <td>-6.18185</td>\n",
       "      <td>-22.16438</td>\n",
       "      <td>26.41713</td>\n",
       "      <td>-8.63388</td>\n",
       "      <td>31.18811</td>\n",
       "      <td>-56.90665</td>\n",
       "      <td>1.22820</td>\n",
       "      <td>32.77897</td>\n",
       "      <td>-21.29104</td>\n",
       "    </tr>\n",
       "    <tr>\n",
       "      <th>510018</th>\n",
       "      <td>2006</td>\n",
       "      <td>47.66160</td>\n",
       "      <td>95.17150</td>\n",
       "      <td>32.03878</td>\n",
       "      <td>2.08911</td>\n",
       "      <td>7.10107</td>\n",
       "      <td>1.01328</td>\n",
       "      <td>-18.63926</td>\n",
       "      <td>12.62359</td>\n",
       "      <td>-3.05738</td>\n",
       "      <td>...</td>\n",
       "      <td>72.88870</td>\n",
       "      <td>-93.20476</td>\n",
       "      <td>-26.22317</td>\n",
       "      <td>32.07740</td>\n",
       "      <td>24.47677</td>\n",
       "      <td>54.15103</td>\n",
       "      <td>-40.61581</td>\n",
       "      <td>-7.03403</td>\n",
       "      <td>84.28672</td>\n",
       "      <td>-14.27650</td>\n",
       "    </tr>\n",
       "    <tr>\n",
       "      <th>507081</th>\n",
       "      <td>2009</td>\n",
       "      <td>38.39726</td>\n",
       "      <td>-0.55448</td>\n",
       "      <td>-48.99193</td>\n",
       "      <td>13.71702</td>\n",
       "      <td>20.44900</td>\n",
       "      <td>-22.19534</td>\n",
       "      <td>-3.55578</td>\n",
       "      <td>-3.80980</td>\n",
       "      <td>7.56424</td>\n",
       "      <td>...</td>\n",
       "      <td>7.96680</td>\n",
       "      <td>-303.37895</td>\n",
       "      <td>-136.14488</td>\n",
       "      <td>-49.60629</td>\n",
       "      <td>-36.48533</td>\n",
       "      <td>-169.50798</td>\n",
       "      <td>452.20295</td>\n",
       "      <td>-15.52135</td>\n",
       "      <td>386.24821</td>\n",
       "      <td>21.98469</td>\n",
       "    </tr>\n",
       "  </tbody>\n",
       "</table>\n",
       "<p>5 rows × 91 columns</p>\n",
       "</div>"
      ],
      "text/plain": [
       "        year    feat_0    feat_1    feat_2    feat_3    feat_4    feat_5  \\\n",
       "492761  1989  45.98989  68.43731  50.71155  12.69610 -43.02829  -1.69011   \n",
       "512364  2004  40.31978 -70.94339 -19.82559 -15.23644   2.61526  -8.95776   \n",
       "492093  2002  48.05087   8.32131  13.66158   0.42081  -9.20881 -19.03846   \n",
       "510018  2006  47.66160  95.17150  32.03878   2.08911   7.10107   1.01328   \n",
       "507081  2009  38.39726  -0.55448 -48.99193  13.71702  20.44900 -22.19534   \n",
       "\n",
       "          feat_6    feat_7    feat_8  ...   feat_80    feat_81    feat_82  \\\n",
       "492761  -9.38475   2.41818  12.58953  ...  17.26491  -95.97911   87.46539   \n",
       "512364  -5.80873 -14.96032  13.77726  ...  56.79234  112.32934   13.20738   \n",
       "492093  10.22317   3.47998   4.24750  ... -11.60396   -6.18185  -22.16438   \n",
       "510018 -18.63926  12.62359  -3.05738  ...  72.88870  -93.20476  -26.22317   \n",
       "507081  -3.55578  -3.80980   7.56424  ...   7.96680 -303.37895 -136.14488   \n",
       "\n",
       "         feat_83   feat_84    feat_85    feat_86   feat_87    feat_88  \\\n",
       "492761  61.98300   8.39552  241.97244   -5.14548  20.30374  -43.70390   \n",
       "512364  81.58860  15.49371  -28.47310   42.80386  -7.48103   29.19382   \n",
       "492093  26.41713  -8.63388   31.18811  -56.90665   1.22820   32.77897   \n",
       "510018  32.07740  24.47677   54.15103  -40.61581  -7.03403   84.28672   \n",
       "507081 -49.60629 -36.48533 -169.50798  452.20295 -15.52135  386.24821   \n",
       "\n",
       "         feat_89  \n",
       "492761   1.05995  \n",
       "512364 -10.63088  \n",
       "492093 -21.29104  \n",
       "510018 -14.27650  \n",
       "507081  21.98469  \n",
       "\n",
       "[5 rows x 91 columns]"
      ]
     },
     "execution_count": 109,
     "metadata": {},
     "output_type": "execute_result"
    }
   ],
   "source": [
    "df.head()"
   ]
  },
  {
   "cell_type": "code",
   "execution_count": 41,
   "metadata": {},
   "outputs": [
    {
     "name": "stdout",
     "output_type": "stream",
     "text": [
      "<class 'pandas.core.frame.DataFrame'>\n",
      "RangeIndex: 515344 entries, 0 to 515343\n",
      "Data columns (total 91 columns):\n",
      " #   Column   Non-Null Count   Dtype  \n",
      "---  ------   --------------   -----  \n",
      " 0   year     515344 non-null  int64  \n",
      " 1   feat_0   515344 non-null  float64\n",
      " 2   feat_1   515344 non-null  float64\n",
      " 3   feat_2   515344 non-null  float64\n",
      " 4   feat_3   515344 non-null  float64\n",
      " 5   feat_4   515344 non-null  float64\n",
      " 6   feat_5   515344 non-null  float64\n",
      " 7   feat_6   515344 non-null  float64\n",
      " 8   feat_7   515344 non-null  float64\n",
      " 9   feat_8   515344 non-null  float64\n",
      " 10  feat_9   515344 non-null  float64\n",
      " 11  feat_10  515344 non-null  float64\n",
      " 12  feat_11  515344 non-null  float64\n",
      " 13  feat_12  515344 non-null  float64\n",
      " 14  feat_13  515344 non-null  float64\n",
      " 15  feat_14  515344 non-null  float64\n",
      " 16  feat_15  515344 non-null  float64\n",
      " 17  feat_16  515344 non-null  float64\n",
      " 18  feat_17  515344 non-null  float64\n",
      " 19  feat_18  515344 non-null  float64\n",
      " 20  feat_19  515344 non-null  float64\n",
      " 21  feat_20  515344 non-null  float64\n",
      " 22  feat_21  515344 non-null  float64\n",
      " 23  feat_22  515344 non-null  float64\n",
      " 24  feat_23  515344 non-null  float64\n",
      " 25  feat_24  515344 non-null  float64\n",
      " 26  feat_25  515344 non-null  float64\n",
      " 27  feat_26  515344 non-null  float64\n",
      " 28  feat_27  515344 non-null  float64\n",
      " 29  feat_28  515344 non-null  float64\n",
      " 30  feat_29  515344 non-null  float64\n",
      " 31  feat_30  515344 non-null  float64\n",
      " 32  feat_31  515344 non-null  float64\n",
      " 33  feat_32  515344 non-null  float64\n",
      " 34  feat_33  515344 non-null  float64\n",
      " 35  feat_34  515344 non-null  float64\n",
      " 36  feat_35  515344 non-null  float64\n",
      " 37  feat_36  515344 non-null  float64\n",
      " 38  feat_37  515344 non-null  float64\n",
      " 39  feat_38  515344 non-null  float64\n",
      " 40  feat_39  515344 non-null  float64\n",
      " 41  feat_40  515344 non-null  float64\n",
      " 42  feat_41  515344 non-null  float64\n",
      " 43  feat_42  515344 non-null  float64\n",
      " 44  feat_43  515344 non-null  float64\n",
      " 45  feat_44  515344 non-null  float64\n",
      " 46  feat_45  515344 non-null  float64\n",
      " 47  feat_46  515344 non-null  float64\n",
      " 48  feat_47  515344 non-null  float64\n",
      " 49  feat_48  515344 non-null  float64\n",
      " 50  feat_49  515344 non-null  float64\n",
      " 51  feat_50  515344 non-null  float64\n",
      " 52  feat_51  515344 non-null  float64\n",
      " 53  feat_52  515344 non-null  float64\n",
      " 54  feat_53  515344 non-null  float64\n",
      " 55  feat_54  515344 non-null  float64\n",
      " 56  feat_55  515344 non-null  float64\n",
      " 57  feat_56  515344 non-null  float64\n",
      " 58  feat_57  515344 non-null  float64\n",
      " 59  feat_58  515344 non-null  float64\n",
      " 60  feat_59  515344 non-null  float64\n",
      " 61  feat_60  515344 non-null  float64\n",
      " 62  feat_61  515344 non-null  float64\n",
      " 63  feat_62  515344 non-null  float64\n",
      " 64  feat_63  515344 non-null  float64\n",
      " 65  feat_64  515344 non-null  float64\n",
      " 66  feat_65  515344 non-null  float64\n",
      " 67  feat_66  515344 non-null  float64\n",
      " 68  feat_67  515344 non-null  float64\n",
      " 69  feat_68  515344 non-null  float64\n",
      " 70  feat_69  515344 non-null  float64\n",
      " 71  feat_70  515344 non-null  float64\n",
      " 72  feat_71  515344 non-null  float64\n",
      " 73  feat_72  515344 non-null  float64\n",
      " 74  feat_73  515344 non-null  float64\n",
      " 75  feat_74  515344 non-null  float64\n",
      " 76  feat_75  515344 non-null  float64\n",
      " 77  feat_76  515344 non-null  float64\n",
      " 78  feat_77  515344 non-null  float64\n",
      " 79  feat_78  515344 non-null  float64\n",
      " 80  feat_79  515344 non-null  float64\n",
      " 81  feat_80  515344 non-null  float64\n",
      " 82  feat_81  515344 non-null  float64\n",
      " 83  feat_82  515344 non-null  float64\n",
      " 84  feat_83  515344 non-null  float64\n",
      " 85  feat_84  515344 non-null  float64\n",
      " 86  feat_85  515344 non-null  float64\n",
      " 87  feat_86  515344 non-null  float64\n",
      " 88  feat_87  515344 non-null  float64\n",
      " 89  feat_88  515344 non-null  float64\n",
      " 90  feat_89  515344 non-null  float64\n",
      "dtypes: float64(90), int64(1)\n",
      "memory usage: 357.8 MB\n"
     ]
    }
   ],
   "source": [
    "df.info()"
   ]
  },
  {
   "cell_type": "markdown",
   "metadata": {},
   "source": [
    "## Split into training/validation/test set\n",
    "Splitting according to instruction given by [authors](https://archive.ics.uci.edu/ml/datasets/YearPredictionMSD#) in order to avoid *producer effect*"
   ]
  },
  {
   "cell_type": "code",
   "execution_count": 71,
   "metadata": {},
   "outputs": [],
   "source": [
    "train_df = df.iloc[:463715]"
   ]
  },
  {
   "cell_type": "code",
   "execution_count": 78,
   "metadata": {},
   "outputs": [],
   "source": [
    "remaining_df = df.iloc[463715:]"
   ]
  },
  {
   "cell_type": "code",
   "execution_count": 79,
   "metadata": {},
   "outputs": [
    {
     "data": {
      "text/plain": [
       "True"
      ]
     },
     "execution_count": 79,
     "metadata": {},
     "output_type": "execute_result"
    }
   ],
   "source": [
    "train_df.shape[0] + remaining_df.shape[0] == df.shape[0]"
   ]
  },
  {
   "cell_type": "code",
   "execution_count": 84,
   "metadata": {},
   "outputs": [],
   "source": [
    "valid_df, test_df = train_test_split(remaining_df, test_size=0.1, random_state=1337)"
   ]
  },
  {
   "cell_type": "code",
   "execution_count": 85,
   "metadata": {},
   "outputs": [
    {
     "name": "stdout",
     "output_type": "stream",
     "text": [
      "(463715, 91)\n",
      "(46466, 91)\n",
      "(5163, 91)\n"
     ]
    }
   ],
   "source": [
    "for df in [train_df, valid_df, test_df]:\n",
    "    print(df.shape)"
   ]
  },
  {
   "cell_type": "code",
   "execution_count": 166,
   "metadata": {},
   "outputs": [],
   "source": [
    "train_df.to_csv(data_path/\"train.csv\", index=False, header=True)"
   ]
  },
  {
   "cell_type": "code",
   "execution_count": 167,
   "metadata": {},
   "outputs": [],
   "source": [
    "valid_df.to_csv(data_path/\"valid.csv\", index=False, header=True)"
   ]
  },
  {
   "cell_type": "code",
   "execution_count": 168,
   "metadata": {},
   "outputs": [],
   "source": [
    "test_df.to_csv(data_path/\"test.csv\", index=False, header=True)"
   ]
  },
  {
   "cell_type": "markdown",
   "metadata": {},
   "source": [
    "## Exploration"
   ]
  },
  {
   "cell_type": "code",
   "execution_count": 130,
   "metadata": {},
   "outputs": [
    {
     "data": {
      "text/plain": [
       "89"
      ]
     },
     "execution_count": 130,
     "metadata": {},
     "output_type": "execute_result"
    }
   ],
   "source": [
    "train_df['year'].nunique()"
   ]
  },
  {
   "cell_type": "code",
   "execution_count": 131,
   "metadata": {},
   "outputs": [
    {
     "data": {
      "text/plain": [
       "2007    35376\n",
       "2006    33824\n",
       "2005    31454\n",
       "2008    31244\n",
       "2009    27907\n",
       "        ...  \n",
       "1925        7\n",
       "1922        6\n",
       "1933        6\n",
       "1924        5\n",
       "2011        1\n",
       "Name: year, Length: 89, dtype: int64"
      ]
     },
     "execution_count": 131,
     "metadata": {},
     "output_type": "execute_result"
    }
   ],
   "source": [
    "train_df[\"year\"].value_counts(normalize=False)"
   ]
  },
  {
   "cell_type": "code",
   "execution_count": 138,
   "metadata": {},
   "outputs": [
    {
     "data": {
      "text/plain": [
       "array([[<matplotlib.axes._subplots.AxesSubplot object at 0x7f4c34331278>]],\n",
       "      dtype=object)"
      ]
     },
     "execution_count": 138,
     "metadata": {},
     "output_type": "execute_result"
    },
    {
     "data": {
      "image/png": "[encoded data removed]",
      "text/plain": [
       "<Figure size 432x288 with 1 Axes>"
      ]
     },
     "metadata": {
      "needs_background": "light"
     },
     "output_type": "display_data"
    }
   ],
   "source": [
    "train_df.hist(column=\"year\", grid=False, bins=10)"
   ]
  },
  {
   "cell_type": "code",
   "execution_count": 149,
   "metadata": {},
   "outputs": [],
   "source": [
    "def classify_decade(year: int):\n",
    "    if year >= 1950 and year < 1960:\n",
    "        return \"fifties\"\n",
    "    elif year >= 1960 and year < 1970:\n",
    "        return \"sixties\"\n",
    "    elif year >= 1970 and year < 1980:\n",
    "        return \"seventies\"\n",
    "    elif year >= 1980 and year < 1990:\n",
    "        return \"eighties\"\n",
    "    elif year >= 1990 and year < 2000:\n",
    "        return \"nineties\"\n",
    "    elif year >= 2000:\n",
    "        return \"millenium\"\n",
    "    else:\n",
    "        return \"forties or older\""
   ]
  },
  {
   "cell_type": "code",
   "execution_count": 158,
   "metadata": {},
   "outputs": [],
   "source": [
    "train_df[\"decade\"] = train_df[\"year\"].apply(classify_decade)"
   ]
  },
  {
   "cell_type": "code",
   "execution_count": 161,
   "metadata": {},
   "outputs": [
    {
     "data": {
      "text/plain": [
       "millenium           0.598389\n",
       "nineties            0.241814\n",
       "eighties            0.081112\n",
       "seventies           0.048196\n",
       "sixties             0.022801\n",
       "fifties             0.006096\n",
       "forties or older    0.001591\n",
       "Name: decade, dtype: float64"
      ]
     },
     "execution_count": 161,
     "metadata": {},
     "output_type": "execute_result"
    }
   ],
   "source": [
    "train_df[\"decade\"].value_counts(normalize=True)"
   ]
  },
  {
   "cell_type": "code",
   "execution_count": 165,
   "metadata": {},
   "outputs": [
    {
     "data": {
      "text/plain": [
       "<matplotlib.axes._subplots.AxesSubplot at 0x7f4c33746f28>"
      ]
     },
     "execution_count": 165,
     "metadata": {},
     "output_type": "execute_result"
    },
    {
     "data": {
      "image/png": "[encoded data removed]",
      "text/plain": [
       "<Figure size 432x288 with 1 Axes>"
      ]
     },
     "metadata": {
      "needs_background": "light"
     },
     "output_type": "display_data"
    }
   ],
   "source": [
    "train_df[\"decade\"].value_counts().plot(kind=\"barh\", title=\"Count of songs by decade\")"
   ]
  },
  {
   "cell_type": "code",
   "execution_count": 113,
   "metadata": {},
   "outputs": [],
   "source": [
    "# Need to use librosa to visualize timbre features"
   ]
  }
 ],
 "metadata": {
  "kernelspec": {
   "display_name": "conda_python3",
   "language": "python",
   "name": "conda_python3"
  },
  "language_info": {
   "codemirror_mode": {
    "name": "ipython",
    "version": 3
   },
   "file_extension": ".py",
   "mimetype": "text/x-python",
   "name": "python",
   "nbconvert_exporter": "python",
   "pygments_lexer": "ipython3",
   "version": "3.6.10"
  }
 },
 "nbformat": 4,
 "nbformat_minor": 4
}
