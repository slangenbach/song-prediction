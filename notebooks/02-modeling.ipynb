{
 "cells": [
  {
   "cell_type": "markdown",
   "metadata": {},
   "source": [
    "# Modeling"
   ]
  },
  {
   "cell_type": "markdown",
   "metadata": {},
   "source": [
    "## Setup"
   ]
  },
  {
   "cell_type": "code",
   "execution_count": 61,
   "metadata": {},
   "outputs": [
    {
     "name": "stdout",
     "output_type": "stream",
     "text": [
      "The autoreload extension is already loaded. To reload it, use:\n",
      "  %reload_ext autoreload\n"
     ]
    }
   ],
   "source": [
    "%load_ext autoreload\n",
    "%autoreload 2\n",
    "%matplotlib inline"
   ]
  },
  {
   "cell_type": "code",
   "execution_count": 1,
   "metadata": {},
   "outputs": [],
   "source": [
    "from pathlib import Path\n",
    "import pandas as pd\n",
    "from fastai.tabular.all import *\n",
    "from sklearn.ensemble import RandomForestClassifier\n",
    "from sklearn.metrics import accuracy_score, plot_confusion_matrix\n",
    "from helpers import *"
   ]
  },
  {
   "cell_type": "markdown",
   "metadata": {},
   "source": [
    "## Load data"
   ]
  },
  {
   "cell_type": "code",
   "execution_count": 2,
   "metadata": {},
   "outputs": [],
   "source": [
    "df = pd.read_parquet(ROOT_PATH/\"data/interim/train.parquet\")"
   ]
  },
  {
   "cell_type": "code",
   "execution_count": 3,
   "metadata": {},
   "outputs": [
    {
     "data": {
      "text/plain": [
       "(463715, 91)"
      ]
     },
     "execution_count": 3,
     "metadata": {},
     "output_type": "execute_result"
    }
   ],
   "source": [
    "df.shape"
   ]
  },
  {
   "cell_type": "markdown",
   "metadata": {},
   "source": [
    "## Specify types"
   ]
  },
  {
   "cell_type": "code",
   "execution_count": 4,
   "metadata": {},
   "outputs": [],
   "source": [
    "df.year = df.year.astype(\"category\")"
   ]
  },
  {
   "cell_type": "code",
   "execution_count": 5,
   "metadata": {},
   "outputs": [
    {
     "data": {
      "text/plain": [
       "89"
      ]
     },
     "execution_count": 5,
     "metadata": {},
     "output_type": "execute_result"
    }
   ],
   "source": [
    "df.year.nunique()"
   ]
  },
  {
   "cell_type": "code",
   "execution_count": 6,
   "metadata": {},
   "outputs": [
    {
     "data": {
      "text/plain": [
       "year             category\n",
       "timbre_avg_1      float64\n",
       "timbre_avg_2      float64\n",
       "timbre_avg_3      float64\n",
       "timbre_avg_4      float64\n",
       "                   ...   \n",
       "timbre_cov_74     float64\n",
       "timbre_cov_75     float64\n",
       "timbre_cov_76     float64\n",
       "timbre_cov_77     float64\n",
       "timbre_cov_78     float64\n",
       "Length: 91, dtype: object"
      ]
     },
     "execution_count": 6,
     "metadata": {},
     "output_type": "execute_result"
    }
   ],
   "source": [
    "df.dtypes"
   ]
  },
  {
   "cell_type": "markdown",
   "metadata": {},
   "source": [
    "## Preprocessing"
   ]
  },
  {
   "cell_type": "code",
   "execution_count": 7,
   "metadata": {},
   "outputs": [],
   "source": [
    "RANDOM_STATE=1337\n",
    "N_JOBS=-1"
   ]
  },
  {
   "cell_type": "code",
   "execution_count": 8,
   "metadata": {},
   "outputs": [],
   "source": [
    "cont_feat, cat_feat = cont_cat_split(df, dep_var=\"year\")"
   ]
  },
  {
   "cell_type": "code",
   "execution_count": 9,
   "metadata": {},
   "outputs": [
    {
     "name": "stdout",
     "output_type": "stream",
     "text": [
      "90 0\n"
     ]
    }
   ],
   "source": [
    "print(len(cont_feat), len(cat_feat))"
   ]
  },
  {
   "cell_type": "code",
   "execution_count": 10,
   "metadata": {},
   "outputs": [],
   "source": [
    "splits = RandomSplitter(valid_pct=0.1, seed=RANDOM_STATE)(range_of(df))"
   ]
  },
  {
   "cell_type": "code",
   "execution_count": 11,
   "metadata": {},
   "outputs": [],
   "source": [
    "to = TabularPandas(df=df, procs=[Normalize], cat_names=cat_feat, cont_names=cont_feat, y_names=\"year\", splits=splits)"
   ]
  },
  {
   "cell_type": "code",
   "execution_count": 12,
   "metadata": {},
   "outputs": [
    {
     "data": {
      "text/plain": [
       "417344"
      ]
     },
     "execution_count": 12,
     "metadata": {},
     "output_type": "execute_result"
    }
   ],
   "source": [
    "len(to.train)"
   ]
  },
  {
   "cell_type": "code",
   "execution_count": 13,
   "metadata": {},
   "outputs": [
    {
     "data": {
      "text/plain": [
       "46371"
      ]
     },
     "execution_count": 13,
     "metadata": {},
     "output_type": "execute_result"
    }
   ],
   "source": [
    "len(to.valid)"
   ]
  },
  {
   "cell_type": "code",
   "execution_count": 14,
   "metadata": {},
   "outputs": [
    {
     "data": {
      "text/plain": [
       "array([[<AxesSubplot:title={'center':'year'}>]], dtype=object)"
      ]
     },
     "execution_count": 14,
     "metadata": {},
     "output_type": "execute_result"
    },
    {
     "data": {
      "image/png": "[encoded data removed]",
      "text/plain": [
       "<Figure size 432x288 with 1 Axes>"
      ]
     },
     "metadata": {
      "needs_background": "light"
     },
     "output_type": "display_data"
    }
   ],
   "source": [
    "to.train.ys.hist()"
   ]
  },
  {
   "cell_type": "code",
   "execution_count": 15,
   "metadata": {},
   "outputs": [
    {
     "data": {
      "text/plain": [
       "array([[<AxesSubplot:title={'center':'year'}>]], dtype=object)"
      ]
     },
     "execution_count": 15,
     "metadata": {},
     "output_type": "execute_result"
    },
    {
     "data": {
      "image/png": "[encoded data removed]",
      "text/plain": [
       "<Figure size 432x288 with 1 Axes>"
      ]
     },
     "metadata": {
      "needs_background": "light"
     },
     "output_type": "display_data"
    }
   ],
   "source": [
    "to.valid.ys.hist()"
   ]
  },
  {
   "cell_type": "code",
   "execution_count": 16,
   "metadata": {},
   "outputs": [],
   "source": [
    "dls = to.dataloaders(bs=1024)"
   ]
  },
  {
   "cell_type": "code",
   "execution_count": 17,
   "metadata": {},
   "outputs": [],
   "source": [
    "X_train, y_train = to.train.xs, to.train.y\n",
    "X_valid, y_valid = to.valid.xs, to.valid.y"
   ]
  },
  {
   "cell_type": "markdown",
   "metadata": {},
   "source": [
    "### Neural Net"
   ]
  },
  {
   "cell_type": "code",
   "execution_count": 30,
   "metadata": {},
   "outputs": [],
   "source": [
    "learn = tabular_learner(dls, layers=[500, 250], metrics=[accuracy], )"
   ]
  },
  {
   "cell_type": "code",
   "execution_count": 31,
   "metadata": {},
   "outputs": [
    {
     "data": {
      "text/html": [],
      "text/plain": [
       "<IPython.core.display.HTML object>"
      ]
     },
     "metadata": {},
     "output_type": "display_data"
    },
    {
     "data": {
      "text/plain": [
       "SuggestedLRs(lr_min=0.012022644281387329, lr_steep=0.002511886414140463)"
      ]
     },
     "execution_count": 31,
     "metadata": {},
     "output_type": "execute_result"
    },
    {
     "data": {
      "image/png": "[encoded data removed]",
      "text/plain": [
       "<Figure size 432x288 with 1 Axes>"
      ]
     },
     "metadata": {
      "needs_background": "light"
     },
     "output_type": "display_data"
    }
   ],
   "source": [
    "learn.lr_find()"
   ]
  },
  {
   "cell_type": "code",
   "execution_count": 35,
   "metadata": {},
   "outputs": [
    {
     "data": {
      "text/html": [
       "<table border=\"1\" class=\"dataframe\">\n",
       "  <thead>\n",
       "    <tr style=\"text-align: left;\">\n",
       "      <th>epoch</th>\n",
       "      <th>train_loss</th>\n",
       "      <th>valid_loss</th>\n",
       "      <th>accuracy</th>\n",
       "      <th>time</th>\n",
       "    </tr>\n",
       "  </thead>\n",
       "  <tbody>\n",
       "    <tr>\n",
       "      <td>0</td>\n",
       "      <td>3.021283</td>\n",
       "      <td>3.067870</td>\n",
       "      <td>0.101141</td>\n",
       "      <td>00:18</td>\n",
       "    </tr>\n",
       "    <tr>\n",
       "      <td>1</td>\n",
       "      <td>3.039117</td>\n",
       "      <td>3.048825</td>\n",
       "      <td>0.101701</td>\n",
       "      <td>00:18</td>\n",
       "    </tr>\n",
       "    <tr>\n",
       "      <td>2</td>\n",
       "      <td>3.005297</td>\n",
       "      <td>3.026479</td>\n",
       "      <td>0.105605</td>\n",
       "      <td>00:18</td>\n",
       "    </tr>\n",
       "  </tbody>\n",
       "</table>"
      ],
      "text/plain": [
       "<IPython.core.display.HTML object>"
      ]
     },
     "metadata": {},
     "output_type": "display_data"
    },
    {
     "name": "stdout",
     "output_type": "stream",
     "text": [
      "No improvement since epoch 0: early stopping\n"
     ]
    }
   ],
   "source": [
    "learn.fit_one_cycle(5, 0.01, cbs=[EarlyStoppingCallback(min_delta=0.1, patience=2)], wd=0.1)"
   ]
  },
  {
   "cell_type": "code",
   "execution_count": 36,
   "metadata": {},
   "outputs": [
    {
     "data": {
      "text/html": [],
      "text/plain": [
       "<IPython.core.display.HTML object>"
      ]
     },
     "metadata": {},
     "output_type": "display_data"
    },
    {
     "data": {
      "text/html": [
       "<table border=\"1\" class=\"dataframe\">\n",
       "  <thead>\n",
       "    <tr style=\"text-align: right;\">\n",
       "      <th></th>\n",
       "      <th>timbre_avg_1</th>\n",
       "      <th>timbre_avg_2</th>\n",
       "      <th>timbre_avg_3</th>\n",
       "      <th>timbre_avg_4</th>\n",
       "      <th>timbre_avg_5</th>\n",
       "      <th>timbre_avg_6</th>\n",
       "      <th>timbre_avg_7</th>\n",
       "      <th>timbre_avg_8</th>\n",
       "      <th>timbre_avg_9</th>\n",
       "      <th>timbre_avg_10</th>\n",
       "      <th>timbre_avg_11</th>\n",
       "      <th>timbre_avg_12</th>\n",
       "      <th>timbre_cov_1</th>\n",
       "      <th>timbre_cov_2</th>\n",
       "      <th>timbre_cov_3</th>\n",
       "      <th>timbre_cov_4</th>\n",
       "      <th>timbre_cov_5</th>\n",
       "      <th>timbre_cov_6</th>\n",
       "      <th>timbre_cov_7</th>\n",
       "      <th>timbre_cov_8</th>\n",
       "      <th>timbre_cov_9</th>\n",
       "      <th>timbre_cov_10</th>\n",
       "      <th>timbre_cov_11</th>\n",
       "      <th>timbre_cov_12</th>\n",
       "      <th>timbre_cov_13</th>\n",
       "      <th>timbre_cov_14</th>\n",
       "      <th>timbre_cov_15</th>\n",
       "      <th>timbre_cov_16</th>\n",
       "      <th>timbre_cov_17</th>\n",
       "      <th>timbre_cov_18</th>\n",
       "      <th>timbre_cov_19</th>\n",
       "      <th>timbre_cov_20</th>\n",
       "      <th>timbre_cov_21</th>\n",
       "      <th>timbre_cov_22</th>\n",
       "      <th>timbre_cov_23</th>\n",
       "      <th>timbre_cov_24</th>\n",
       "      <th>timbre_cov_25</th>\n",
       "      <th>timbre_cov_26</th>\n",
       "      <th>timbre_cov_27</th>\n",
       "      <th>timbre_cov_28</th>\n",
       "      <th>timbre_cov_29</th>\n",
       "      <th>timbre_cov_30</th>\n",
       "      <th>timbre_cov_31</th>\n",
       "      <th>timbre_cov_32</th>\n",
       "      <th>timbre_cov_33</th>\n",
       "      <th>timbre_cov_34</th>\n",
       "      <th>timbre_cov_35</th>\n",
       "      <th>timbre_cov_36</th>\n",
       "      <th>timbre_cov_37</th>\n",
       "      <th>timbre_cov_38</th>\n",
       "      <th>timbre_cov_39</th>\n",
       "      <th>timbre_cov_40</th>\n",
       "      <th>timbre_cov_41</th>\n",
       "      <th>timbre_cov_42</th>\n",
       "      <th>timbre_cov_43</th>\n",
       "      <th>timbre_cov_44</th>\n",
       "      <th>timbre_cov_45</th>\n",
       "      <th>timbre_cov_46</th>\n",
       "      <th>timbre_cov_47</th>\n",
       "      <th>timbre_cov_48</th>\n",
       "      <th>timbre_cov_49</th>\n",
       "      <th>timbre_cov_50</th>\n",
       "      <th>timbre_cov_51</th>\n",
       "      <th>timbre_cov_52</th>\n",
       "      <th>timbre_cov_53</th>\n",
       "      <th>timbre_cov_54</th>\n",
       "      <th>timbre_cov_55</th>\n",
       "      <th>timbre_cov_56</th>\n",
       "      <th>timbre_cov_57</th>\n",
       "      <th>timbre_cov_58</th>\n",
       "      <th>timbre_cov_59</th>\n",
       "      <th>timbre_cov_60</th>\n",
       "      <th>timbre_cov_61</th>\n",
       "      <th>timbre_cov_62</th>\n",
       "      <th>timbre_cov_63</th>\n",
       "      <th>timbre_cov_64</th>\n",
       "      <th>timbre_cov_65</th>\n",
       "      <th>timbre_cov_66</th>\n",
       "      <th>timbre_cov_67</th>\n",
       "      <th>timbre_cov_68</th>\n",
       "      <th>timbre_cov_69</th>\n",
       "      <th>timbre_cov_70</th>\n",
       "      <th>timbre_cov_71</th>\n",
       "      <th>timbre_cov_72</th>\n",
       "      <th>timbre_cov_73</th>\n",
       "      <th>timbre_cov_74</th>\n",
       "      <th>timbre_cov_75</th>\n",
       "      <th>timbre_cov_76</th>\n",
       "      <th>timbre_cov_77</th>\n",
       "      <th>timbre_cov_78</th>\n",
       "      <th>year</th>\n",
       "      <th>year_pred</th>\n",
       "    </tr>\n",
       "  </thead>\n",
       "  <tbody>\n",
       "    <tr>\n",
       "      <th>0</th>\n",
       "      <td>0.992033</td>\n",
       "      <td>0.575151</td>\n",
       "      <td>0.944012</td>\n",
       "      <td>0.266232</td>\n",
       "      <td>0.001062</td>\n",
       "      <td>-0.397006</td>\n",
       "      <td>0.603415</td>\n",
       "      <td>0.528031</td>\n",
       "      <td>1.307238</td>\n",
       "      <td>1.257235</td>\n",
       "      <td>-0.365515</td>\n",
       "      <td>-0.416879</td>\n",
       "      <td>-0.360074</td>\n",
       "      <td>0.644755</td>\n",
       "      <td>-0.017507</td>\n",
       "      <td>-0.557084</td>\n",
       "      <td>-0.208251</td>\n",
       "      <td>0.033533</td>\n",
       "      <td>-0.009260</td>\n",
       "      <td>-0.492585</td>\n",
       "      <td>-0.194256</td>\n",
       "      <td>-0.465722</td>\n",
       "      <td>0.021900</td>\n",
       "      <td>-0.415133</td>\n",
       "      <td>1.127865</td>\n",
       "      <td>-0.543867</td>\n",
       "      <td>0.160732</td>\n",
       "      <td>0.034678</td>\n",
       "      <td>0.931017</td>\n",
       "      <td>-0.773215</td>\n",
       "      <td>0.302523</td>\n",
       "      <td>0.031182</td>\n",
       "      <td>-0.001309</td>\n",
       "      <td>-1.102030</td>\n",
       "      <td>0.197597</td>\n",
       "      <td>-0.392502</td>\n",
       "      <td>-0.834605</td>\n",
       "      <td>0.079198</td>\n",
       "      <td>-0.019826</td>\n",
       "      <td>-0.344626</td>\n",
       "      <td>0.138219</td>\n",
       "      <td>1.019294</td>\n",
       "      <td>0.724437</td>\n",
       "      <td>0.186531</td>\n",
       "      <td>0.319307</td>\n",
       "      <td>-0.560837</td>\n",
       "      <td>-0.957010</td>\n",
       "      <td>-0.711194</td>\n",
       "      <td>-0.468082</td>\n",
       "      <td>0.119083</td>\n",
       "      <td>-2.035316</td>\n",
       "      <td>0.989434</td>\n",
       "      <td>-1.526668</td>\n",
       "      <td>-0.171182</td>\n",
       "      <td>-0.319231</td>\n",
       "      <td>-0.987652</td>\n",
       "      <td>-0.001011</td>\n",
       "      <td>0.031675</td>\n",
       "      <td>-0.111405</td>\n",
       "      <td>0.516110</td>\n",
       "      <td>-0.404613</td>\n",
       "      <td>-0.222118</td>\n",
       "      <td>-1.528264</td>\n",
       "      <td>1.542690</td>\n",
       "      <td>-0.224315</td>\n",
       "      <td>0.385956</td>\n",
       "      <td>0.036350</td>\n",
       "      <td>-0.674814</td>\n",
       "      <td>-0.124789</td>\n",
       "      <td>1.040551</td>\n",
       "      <td>0.906653</td>\n",
       "      <td>0.721542</td>\n",
       "      <td>-0.421780</td>\n",
       "      <td>0.042392</td>\n",
       "      <td>-0.065874</td>\n",
       "      <td>0.379132</td>\n",
       "      <td>0.113483</td>\n",
       "      <td>-0.372110</td>\n",
       "      <td>0.448197</td>\n",
       "      <td>0.070942</td>\n",
       "      <td>0.389219</td>\n",
       "      <td>2.033201</td>\n",
       "      <td>0.268189</td>\n",
       "      <td>0.096917</td>\n",
       "      <td>0.699611</td>\n",
       "      <td>-1.640760</td>\n",
       "      <td>0.300542</td>\n",
       "      <td>-0.345074</td>\n",
       "      <td>-0.082095</td>\n",
       "      <td>-0.032260</td>\n",
       "      <td>84.0</td>\n",
       "      <td>84.0</td>\n",
       "    </tr>\n",
       "    <tr>\n",
       "      <th>1</th>\n",
       "      <td>-0.048229</td>\n",
       "      <td>-0.271909</td>\n",
       "      <td>-0.060225</td>\n",
       "      <td>-1.549389</td>\n",
       "      <td>0.036366</td>\n",
       "      <td>0.407591</td>\n",
       "      <td>-1.881513</td>\n",
       "      <td>-0.229813</td>\n",
       "      <td>0.089559</td>\n",
       "      <td>-0.404371</td>\n",
       "      <td>-0.552386</td>\n",
       "      <td>2.020885</td>\n",
       "      <td>-0.639583</td>\n",
       "      <td>-0.609775</td>\n",
       "      <td>-0.793545</td>\n",
       "      <td>0.022445</td>\n",
       "      <td>0.066330</td>\n",
       "      <td>-0.630866</td>\n",
       "      <td>-0.879644</td>\n",
       "      <td>-0.387433</td>\n",
       "      <td>-0.182353</td>\n",
       "      <td>-0.527034</td>\n",
       "      <td>-0.267147</td>\n",
       "      <td>-0.644132</td>\n",
       "      <td>-0.335597</td>\n",
       "      <td>-0.125121</td>\n",
       "      <td>-0.092813</td>\n",
       "      <td>0.619910</td>\n",
       "      <td>-0.012952</td>\n",
       "      <td>0.353175</td>\n",
       "      <td>-0.370281</td>\n",
       "      <td>0.104389</td>\n",
       "      <td>0.605303</td>\n",
       "      <td>-0.139509</td>\n",
       "      <td>-0.134990</td>\n",
       "      <td>-0.036800</td>\n",
       "      <td>0.327792</td>\n",
       "      <td>-0.232470</td>\n",
       "      <td>-0.785050</td>\n",
       "      <td>0.787447</td>\n",
       "      <td>-0.521058</td>\n",
       "      <td>-0.335971</td>\n",
       "      <td>0.443413</td>\n",
       "      <td>1.127163</td>\n",
       "      <td>1.176564</td>\n",
       "      <td>0.173354</td>\n",
       "      <td>-0.716775</td>\n",
       "      <td>-0.290031</td>\n",
       "      <td>-0.656308</td>\n",
       "      <td>0.637983</td>\n",
       "      <td>-1.101847</td>\n",
       "      <td>0.455650</td>\n",
       "      <td>0.043521</td>\n",
       "      <td>0.719961</td>\n",
       "      <td>0.243064</td>\n",
       "      <td>-0.459439</td>\n",
       "      <td>-0.413224</td>\n",
       "      <td>0.449379</td>\n",
       "      <td>0.119481</td>\n",
       "      <td>0.619445</td>\n",
       "      <td>-0.000976</td>\n",
       "      <td>-0.281909</td>\n",
       "      <td>0.243111</td>\n",
       "      <td>-0.116951</td>\n",
       "      <td>0.251054</td>\n",
       "      <td>0.837747</td>\n",
       "      <td>0.487896</td>\n",
       "      <td>-1.400463</td>\n",
       "      <td>0.365109</td>\n",
       "      <td>-0.640307</td>\n",
       "      <td>-0.307150</td>\n",
       "      <td>0.566574</td>\n",
       "      <td>-0.471979</td>\n",
       "      <td>-0.755158</td>\n",
       "      <td>0.181304</td>\n",
       "      <td>0.566069</td>\n",
       "      <td>-0.391158</td>\n",
       "      <td>0.614805</td>\n",
       "      <td>-0.217439</td>\n",
       "      <td>0.687915</td>\n",
       "      <td>-0.054877</td>\n",
       "      <td>-0.782656</td>\n",
       "      <td>0.296059</td>\n",
       "      <td>-0.025373</td>\n",
       "      <td>0.106677</td>\n",
       "      <td>-0.188040</td>\n",
       "      <td>0.228050</td>\n",
       "      <td>-0.572094</td>\n",
       "      <td>-0.458970</td>\n",
       "      <td>-0.117254</td>\n",
       "      <td>54.0</td>\n",
       "      <td>83.0</td>\n",
       "    </tr>\n",
       "    <tr>\n",
       "      <th>2</th>\n",
       "      <td>-0.182565</td>\n",
       "      <td>0.637238</td>\n",
       "      <td>-0.479725</td>\n",
       "      <td>0.139444</td>\n",
       "      <td>0.193971</td>\n",
       "      <td>1.408481</td>\n",
       "      <td>0.309838</td>\n",
       "      <td>0.126282</td>\n",
       "      <td>1.232553</td>\n",
       "      <td>1.192415</td>\n",
       "      <td>-1.377182</td>\n",
       "      <td>-0.575375</td>\n",
       "      <td>0.066786</td>\n",
       "      <td>1.100362</td>\n",
       "      <td>0.642748</td>\n",
       "      <td>1.434575</td>\n",
       "      <td>0.770701</td>\n",
       "      <td>0.675493</td>\n",
       "      <td>1.530524</td>\n",
       "      <td>2.133713</td>\n",
       "      <td>0.711277</td>\n",
       "      <td>1.429112</td>\n",
       "      <td>1.312505</td>\n",
       "      <td>0.852532</td>\n",
       "      <td>1.106827</td>\n",
       "      <td>-0.947951</td>\n",
       "      <td>0.332042</td>\n",
       "      <td>0.571189</td>\n",
       "      <td>-0.631384</td>\n",
       "      <td>0.143606</td>\n",
       "      <td>1.559765</td>\n",
       "      <td>2.294275</td>\n",
       "      <td>-1.071794</td>\n",
       "      <td>-1.664824</td>\n",
       "      <td>-1.356061</td>\n",
       "      <td>-1.176681</td>\n",
       "      <td>-0.916957</td>\n",
       "      <td>1.111362</td>\n",
       "      <td>-1.491925</td>\n",
       "      <td>1.679726</td>\n",
       "      <td>-0.368432</td>\n",
       "      <td>1.740015</td>\n",
       "      <td>-2.788204</td>\n",
       "      <td>1.939449</td>\n",
       "      <td>2.451622</td>\n",
       "      <td>0.345704</td>\n",
       "      <td>-1.072431</td>\n",
       "      <td>-0.094397</td>\n",
       "      <td>1.010513</td>\n",
       "      <td>0.947846</td>\n",
       "      <td>-0.314336</td>\n",
       "      <td>-0.502483</td>\n",
       "      <td>4.467475</td>\n",
       "      <td>-0.343972</td>\n",
       "      <td>-1.240044</td>\n",
       "      <td>-1.432102</td>\n",
       "      <td>1.746361</td>\n",
       "      <td>-1.620953</td>\n",
       "      <td>0.652410</td>\n",
       "      <td>-0.499946</td>\n",
       "      <td>0.095895</td>\n",
       "      <td>-0.613261</td>\n",
       "      <td>0.004159</td>\n",
       "      <td>-0.465511</td>\n",
       "      <td>1.764029</td>\n",
       "      <td>-0.684045</td>\n",
       "      <td>0.176985</td>\n",
       "      <td>0.293507</td>\n",
       "      <td>1.219224</td>\n",
       "      <td>-1.452947</td>\n",
       "      <td>0.606313</td>\n",
       "      <td>0.430546</td>\n",
       "      <td>0.519211</td>\n",
       "      <td>-1.585204</td>\n",
       "      <td>-0.302031</td>\n",
       "      <td>0.378769</td>\n",
       "      <td>-0.957486</td>\n",
       "      <td>0.084147</td>\n",
       "      <td>-2.585380</td>\n",
       "      <td>0.446490</td>\n",
       "      <td>-0.559713</td>\n",
       "      <td>-0.814099</td>\n",
       "      <td>0.065901</td>\n",
       "      <td>2.746960</td>\n",
       "      <td>0.315877</td>\n",
       "      <td>3.130524</td>\n",
       "      <td>1.303951</td>\n",
       "      <td>0.983406</td>\n",
       "      <td>-0.120312</td>\n",
       "      <td>0.283264</td>\n",
       "      <td>75.0</td>\n",
       "      <td>84.0</td>\n",
       "    </tr>\n",
       "    <tr>\n",
       "      <th>3</th>\n",
       "      <td>0.594890</td>\n",
       "      <td>0.269968</td>\n",
       "      <td>-0.919813</td>\n",
       "      <td>-1.078484</td>\n",
       "      <td>0.098428</td>\n",
       "      <td>-0.434421</td>\n",
       "      <td>0.322524</td>\n",
       "      <td>-0.641639</td>\n",
       "      <td>-0.507210</td>\n",
       "      <td>-0.988218</td>\n",
       "      <td>-0.357329</td>\n",
       "      <td>0.080775</td>\n",
       "      <td>0.717611</td>\n",
       "      <td>-0.255065</td>\n",
       "      <td>0.480663</td>\n",
       "      <td>-0.466663</td>\n",
       "      <td>-0.471124</td>\n",
       "      <td>0.183712</td>\n",
       "      <td>-0.393332</td>\n",
       "      <td>-0.318752</td>\n",
       "      <td>-0.693486</td>\n",
       "      <td>-0.168518</td>\n",
       "      <td>-0.088101</td>\n",
       "      <td>-0.368527</td>\n",
       "      <td>0.978102</td>\n",
       "      <td>1.137074</td>\n",
       "      <td>-0.385886</td>\n",
       "      <td>-0.367351</td>\n",
       "      <td>-1.222983</td>\n",
       "      <td>0.087777</td>\n",
       "      <td>-0.650094</td>\n",
       "      <td>0.434113</td>\n",
       "      <td>-0.362864</td>\n",
       "      <td>0.244463</td>\n",
       "      <td>-0.123988</td>\n",
       "      <td>2.003515</td>\n",
       "      <td>-0.315995</td>\n",
       "      <td>0.591210</td>\n",
       "      <td>0.483177</td>\n",
       "      <td>-0.454001</td>\n",
       "      <td>-0.788302</td>\n",
       "      <td>0.343334</td>\n",
       "      <td>-0.331574</td>\n",
       "      <td>0.943294</td>\n",
       "      <td>-0.710352</td>\n",
       "      <td>-0.735795</td>\n",
       "      <td>0.288667</td>\n",
       "      <td>-3.855718</td>\n",
       "      <td>0.409810</td>\n",
       "      <td>0.737344</td>\n",
       "      <td>-0.995792</td>\n",
       "      <td>-0.494087</td>\n",
       "      <td>-0.082987</td>\n",
       "      <td>0.081949</td>\n",
       "      <td>0.964146</td>\n",
       "      <td>-1.549652</td>\n",
       "      <td>-0.273115</td>\n",
       "      <td>-0.054382</td>\n",
       "      <td>0.319971</td>\n",
       "      <td>-0.682376</td>\n",
       "      <td>-0.608274</td>\n",
       "      <td>-0.505661</td>\n",
       "      <td>-3.507924</td>\n",
       "      <td>-0.107342</td>\n",
       "      <td>1.105413</td>\n",
       "      <td>0.317303</td>\n",
       "      <td>0.197199</td>\n",
       "      <td>-0.811517</td>\n",
       "      <td>0.030818</td>\n",
       "      <td>-0.493460</td>\n",
       "      <td>0.799927</td>\n",
       "      <td>0.441893</td>\n",
       "      <td>-0.090792</td>\n",
       "      <td>0.432576</td>\n",
       "      <td>1.842864</td>\n",
       "      <td>1.252582</td>\n",
       "      <td>0.166343</td>\n",
       "      <td>0.820876</td>\n",
       "      <td>0.206340</td>\n",
       "      <td>0.074906</td>\n",
       "      <td>0.337597</td>\n",
       "      <td>0.628666</td>\n",
       "      <td>0.705383</td>\n",
       "      <td>-0.305856</td>\n",
       "      <td>1.348035</td>\n",
       "      <td>0.058294</td>\n",
       "      <td>-0.704907</td>\n",
       "      <td>1.982792</td>\n",
       "      <td>-0.096635</td>\n",
       "      <td>-1.086345</td>\n",
       "      <td>82.0</td>\n",
       "      <td>82.0</td>\n",
       "    </tr>\n",
       "    <tr>\n",
       "      <th>4</th>\n",
       "      <td>0.904342</td>\n",
       "      <td>0.351958</td>\n",
       "      <td>0.063293</td>\n",
       "      <td>0.359777</td>\n",
       "      <td>-0.081623</td>\n",
       "      <td>-0.578144</td>\n",
       "      <td>0.918200</td>\n",
       "      <td>1.110253</td>\n",
       "      <td>0.698239</td>\n",
       "      <td>1.284330</td>\n",
       "      <td>-0.624851</td>\n",
       "      <td>-0.604896</td>\n",
       "      <td>-0.930741</td>\n",
       "      <td>-0.536482</td>\n",
       "      <td>-0.663466</td>\n",
       "      <td>-0.703835</td>\n",
       "      <td>-0.637574</td>\n",
       "      <td>-0.667847</td>\n",
       "      <td>-0.198851</td>\n",
       "      <td>-1.189646</td>\n",
       "      <td>-1.157293</td>\n",
       "      <td>-0.970267</td>\n",
       "      <td>-0.267651</td>\n",
       "      <td>-0.665000</td>\n",
       "      <td>-0.005507</td>\n",
       "      <td>0.452417</td>\n",
       "      <td>0.277346</td>\n",
       "      <td>-0.068848</td>\n",
       "      <td>0.620573</td>\n",
       "      <td>-0.411882</td>\n",
       "      <td>-0.030842</td>\n",
       "      <td>-0.261409</td>\n",
       "      <td>0.114457</td>\n",
       "      <td>1.042416</td>\n",
       "      <td>0.223860</td>\n",
       "      <td>-0.657772</td>\n",
       "      <td>0.305213</td>\n",
       "      <td>0.588170</td>\n",
       "      <td>0.529229</td>\n",
       "      <td>-1.301592</td>\n",
       "      <td>0.202742</td>\n",
       "      <td>-0.001056</td>\n",
       "      <td>0.656876</td>\n",
       "      <td>0.258216</td>\n",
       "      <td>-0.361580</td>\n",
       "      <td>-0.124537</td>\n",
       "      <td>-0.077556</td>\n",
       "      <td>0.263300</td>\n",
       "      <td>0.041702</td>\n",
       "      <td>-0.768622</td>\n",
       "      <td>-0.406587</td>\n",
       "      <td>0.607471</td>\n",
       "      <td>0.410612</td>\n",
       "      <td>-0.374101</td>\n",
       "      <td>-0.280735</td>\n",
       "      <td>0.498785</td>\n",
       "      <td>-0.505689</td>\n",
       "      <td>0.156556</td>\n",
       "      <td>-0.104848</td>\n",
       "      <td>-0.371409</td>\n",
       "      <td>-0.836079</td>\n",
       "      <td>0.253043</td>\n",
       "      <td>-0.133122</td>\n",
       "      <td>0.523188</td>\n",
       "      <td>-0.291533</td>\n",
       "      <td>0.239967</td>\n",
       "      <td>-0.831523</td>\n",
       "      <td>-0.421222</td>\n",
       "      <td>-0.265246</td>\n",
       "      <td>0.624529</td>\n",
       "      <td>0.428185</td>\n",
       "      <td>-0.279725</td>\n",
       "      <td>0.619560</td>\n",
       "      <td>0.596070</td>\n",
       "      <td>0.280631</td>\n",
       "      <td>0.442721</td>\n",
       "      <td>-0.319368</td>\n",
       "      <td>-0.896946</td>\n",
       "      <td>0.337949</td>\n",
       "      <td>-0.190076</td>\n",
       "      <td>-0.522747</td>\n",
       "      <td>0.182606</td>\n",
       "      <td>-0.009245</td>\n",
       "      <td>0.002235</td>\n",
       "      <td>0.567571</td>\n",
       "      <td>-0.217160</td>\n",
       "      <td>0.135034</td>\n",
       "      <td>0.047698</td>\n",
       "      <td>0.559441</td>\n",
       "      <td>0.070113</td>\n",
       "      <td>80.0</td>\n",
       "      <td>81.0</td>\n",
       "    </tr>\n",
       "    <tr>\n",
       "      <th>5</th>\n",
       "      <td>-0.093293</td>\n",
       "      <td>1.028514</td>\n",
       "      <td>-1.447970</td>\n",
       "      <td>0.626897</td>\n",
       "      <td>0.456765</td>\n",
       "      <td>0.453250</td>\n",
       "      <td>0.114861</td>\n",
       "      <td>-1.553728</td>\n",
       "      <td>-1.081666</td>\n",
       "      <td>-0.555267</td>\n",
       "      <td>0.350772</td>\n",
       "      <td>0.100225</td>\n",
       "      <td>-0.818869</td>\n",
       "      <td>0.628208</td>\n",
       "      <td>0.796892</td>\n",
       "      <td>1.890660</td>\n",
       "      <td>0.301358</td>\n",
       "      <td>1.118305</td>\n",
       "      <td>0.720624</td>\n",
       "      <td>2.916159</td>\n",
       "      <td>0.602045</td>\n",
       "      <td>2.001299</td>\n",
       "      <td>1.371091</td>\n",
       "      <td>-0.251991</td>\n",
       "      <td>0.057051</td>\n",
       "      <td>-0.523871</td>\n",
       "      <td>-2.035732</td>\n",
       "      <td>0.161198</td>\n",
       "      <td>0.334693</td>\n",
       "      <td>-0.103309</td>\n",
       "      <td>-0.678477</td>\n",
       "      <td>-0.204578</td>\n",
       "      <td>-0.707653</td>\n",
       "      <td>0.190242</td>\n",
       "      <td>-0.889166</td>\n",
       "      <td>-0.844613</td>\n",
       "      <td>1.798742</td>\n",
       "      <td>1.427573</td>\n",
       "      <td>-1.340391</td>\n",
       "      <td>-0.533779</td>\n",
       "      <td>0.555050</td>\n",
       "      <td>0.757138</td>\n",
       "      <td>-0.853338</td>\n",
       "      <td>0.189271</td>\n",
       "      <td>0.275726</td>\n",
       "      <td>1.471602</td>\n",
       "      <td>0.175063</td>\n",
       "      <td>0.603107</td>\n",
       "      <td>-1.085996</td>\n",
       "      <td>-1.261570</td>\n",
       "      <td>-0.124637</td>\n",
       "      <td>-0.435807</td>\n",
       "      <td>1.080926</td>\n",
       "      <td>-0.657811</td>\n",
       "      <td>-0.021345</td>\n",
       "      <td>0.231844</td>\n",
       "      <td>-0.860102</td>\n",
       "      <td>-2.645553</td>\n",
       "      <td>0.804723</td>\n",
       "      <td>-1.468015</td>\n",
       "      <td>-0.497613</td>\n",
       "      <td>-1.344830</td>\n",
       "      <td>-0.727530</td>\n",
       "      <td>-0.881151</td>\n",
       "      <td>2.041229</td>\n",
       "      <td>1.893923</td>\n",
       "      <td>-0.501656</td>\n",
       "      <td>0.222287</td>\n",
       "      <td>-0.623946</td>\n",
       "      <td>0.212006</td>\n",
       "      <td>-1.715760</td>\n",
       "      <td>-0.898701</td>\n",
       "      <td>1.342569</td>\n",
       "      <td>-0.015987</td>\n",
       "      <td>-0.357354</td>\n",
       "      <td>-0.188528</td>\n",
       "      <td>-0.702903</td>\n",
       "      <td>-1.000909</td>\n",
       "      <td>0.952741</td>\n",
       "      <td>0.544039</td>\n",
       "      <td>-0.191510</td>\n",
       "      <td>-1.266304</td>\n",
       "      <td>-0.677280</td>\n",
       "      <td>1.575533</td>\n",
       "      <td>1.090440</td>\n",
       "      <td>1.564074</td>\n",
       "      <td>0.418299</td>\n",
       "      <td>0.847955</td>\n",
       "      <td>1.227426</td>\n",
       "      <td>-0.178889</td>\n",
       "      <td>78.0</td>\n",
       "      <td>75.0</td>\n",
       "    </tr>\n",
       "    <tr>\n",
       "      <th>6</th>\n",
       "      <td>0.269996</td>\n",
       "      <td>0.199787</td>\n",
       "      <td>-0.151204</td>\n",
       "      <td>0.116972</td>\n",
       "      <td>1.118184</td>\n",
       "      <td>-0.466063</td>\n",
       "      <td>0.421549</td>\n",
       "      <td>-0.826445</td>\n",
       "      <td>0.163358</td>\n",
       "      <td>0.093240</td>\n",
       "      <td>0.845296</td>\n",
       "      <td>-0.238301</td>\n",
       "      <td>0.733240</td>\n",
       "      <td>-0.991154</td>\n",
       "      <td>-0.632510</td>\n",
       "      <td>-0.889805</td>\n",
       "      <td>-0.750986</td>\n",
       "      <td>-0.426381</td>\n",
       "      <td>-0.399467</td>\n",
       "      <td>-0.342212</td>\n",
       "      <td>-0.548257</td>\n",
       "      <td>-0.534106</td>\n",
       "      <td>-0.405998</td>\n",
       "      <td>-0.712976</td>\n",
       "      <td>-0.613959</td>\n",
       "      <td>-0.246272</td>\n",
       "      <td>-0.145249</td>\n",
       "      <td>0.035179</td>\n",
       "      <td>1.033538</td>\n",
       "      <td>-0.055033</td>\n",
       "      <td>0.248824</td>\n",
       "      <td>-1.688593</td>\n",
       "      <td>0.324686</td>\n",
       "      <td>-0.398476</td>\n",
       "      <td>0.126144</td>\n",
       "      <td>-0.394674</td>\n",
       "      <td>0.102647</td>\n",
       "      <td>0.030417</td>\n",
       "      <td>-0.211382</td>\n",
       "      <td>0.159641</td>\n",
       "      <td>1.210618</td>\n",
       "      <td>-0.366818</td>\n",
       "      <td>-1.126321</td>\n",
       "      <td>0.119987</td>\n",
       "      <td>-0.054750</td>\n",
       "      <td>0.092715</td>\n",
       "      <td>-0.039205</td>\n",
       "      <td>0.320648</td>\n",
       "      <td>0.423598</td>\n",
       "      <td>1.475199</td>\n",
       "      <td>-0.288037</td>\n",
       "      <td>-0.256269</td>\n",
       "      <td>-0.521316</td>\n",
       "      <td>0.055242</td>\n",
       "      <td>-0.173997</td>\n",
       "      <td>-0.204854</td>\n",
       "      <td>0.139864</td>\n",
       "      <td>-0.486009</td>\n",
       "      <td>-1.212372</td>\n",
       "      <td>-1.101478</td>\n",
       "      <td>-0.881495</td>\n",
       "      <td>-0.245373</td>\n",
       "      <td>0.523144</td>\n",
       "      <td>-0.240809</td>\n",
       "      <td>0.497856</td>\n",
       "      <td>-0.233957</td>\n",
       "      <td>-1.281584</td>\n",
       "      <td>0.234029</td>\n",
       "      <td>0.068675</td>\n",
       "      <td>-0.200893</td>\n",
       "      <td>0.440249</td>\n",
       "      <td>0.062163</td>\n",
       "      <td>0.590330</td>\n",
       "      <td>0.684475</td>\n",
       "      <td>-0.365069</td>\n",
       "      <td>-0.526906</td>\n",
       "      <td>-0.351795</td>\n",
       "      <td>-0.788386</td>\n",
       "      <td>0.457114</td>\n",
       "      <td>-0.005637</td>\n",
       "      <td>0.010365</td>\n",
       "      <td>0.202000</td>\n",
       "      <td>-0.533046</td>\n",
       "      <td>0.041770</td>\n",
       "      <td>-0.593174</td>\n",
       "      <td>0.835140</td>\n",
       "      <td>0.375188</td>\n",
       "      <td>0.913782</td>\n",
       "      <td>-0.324260</td>\n",
       "      <td>0.281600</td>\n",
       "      <td>69.0</td>\n",
       "      <td>66.0</td>\n",
       "    </tr>\n",
       "    <tr>\n",
       "      <th>7</th>\n",
       "      <td>-0.957406</td>\n",
       "      <td>-0.294980</td>\n",
       "      <td>0.281262</td>\n",
       "      <td>1.166902</td>\n",
       "      <td>1.067231</td>\n",
       "      <td>0.862434</td>\n",
       "      <td>0.769909</td>\n",
       "      <td>1.322480</td>\n",
       "      <td>-0.260592</td>\n",
       "      <td>-0.337883</td>\n",
       "      <td>-0.210927</td>\n",
       "      <td>-1.574336</td>\n",
       "      <td>0.671081</td>\n",
       "      <td>-0.777096</td>\n",
       "      <td>0.375015</td>\n",
       "      <td>-0.500915</td>\n",
       "      <td>-0.938276</td>\n",
       "      <td>0.064060</td>\n",
       "      <td>0.239376</td>\n",
       "      <td>-0.294779</td>\n",
       "      <td>-0.626148</td>\n",
       "      <td>-0.630661</td>\n",
       "      <td>-0.151858</td>\n",
       "      <td>0.474842</td>\n",
       "      <td>-0.620957</td>\n",
       "      <td>-0.350496</td>\n",
       "      <td>-0.055421</td>\n",
       "      <td>0.469927</td>\n",
       "      <td>-0.444773</td>\n",
       "      <td>-0.315797</td>\n",
       "      <td>1.308985</td>\n",
       "      <td>-0.101496</td>\n",
       "      <td>-0.158126</td>\n",
       "      <td>-0.150244</td>\n",
       "      <td>0.020646</td>\n",
       "      <td>0.676497</td>\n",
       "      <td>-0.348854</td>\n",
       "      <td>-0.538831</td>\n",
       "      <td>-0.294559</td>\n",
       "      <td>0.522612</td>\n",
       "      <td>0.445010</td>\n",
       "      <td>-0.107561</td>\n",
       "      <td>0.862490</td>\n",
       "      <td>-0.589102</td>\n",
       "      <td>-0.467826</td>\n",
       "      <td>0.457752</td>\n",
       "      <td>-0.166817</td>\n",
       "      <td>0.453048</td>\n",
       "      <td>0.811237</td>\n",
       "      <td>0.169833</td>\n",
       "      <td>-0.261551</td>\n",
       "      <td>0.704324</td>\n",
       "      <td>-0.268728</td>\n",
       "      <td>0.066337</td>\n",
       "      <td>-0.643160</td>\n",
       "      <td>-0.303863</td>\n",
       "      <td>-0.856318</td>\n",
       "      <td>0.196001</td>\n",
       "      <td>-0.307214</td>\n",
       "      <td>0.789179</td>\n",
       "      <td>0.219763</td>\n",
       "      <td>0.513762</td>\n",
       "      <td>1.203012</td>\n",
       "      <td>0.209678</td>\n",
       "      <td>-0.257505</td>\n",
       "      <td>-0.099695</td>\n",
       "      <td>-0.000948</td>\n",
       "      <td>0.009843</td>\n",
       "      <td>0.503316</td>\n",
       "      <td>-0.819994</td>\n",
       "      <td>-0.258253</td>\n",
       "      <td>-0.091918</td>\n",
       "      <td>0.198600</td>\n",
       "      <td>0.587435</td>\n",
       "      <td>-0.780418</td>\n",
       "      <td>-1.302959</td>\n",
       "      <td>0.262862</td>\n",
       "      <td>-0.754864</td>\n",
       "      <td>0.831762</td>\n",
       "      <td>0.874783</td>\n",
       "      <td>0.555189</td>\n",
       "      <td>0.329715</td>\n",
       "      <td>-0.620258</td>\n",
       "      <td>-0.144690</td>\n",
       "      <td>-0.808674</td>\n",
       "      <td>-0.374733</td>\n",
       "      <td>-0.653551</td>\n",
       "      <td>0.284373</td>\n",
       "      <td>-0.381311</td>\n",
       "      <td>-0.642668</td>\n",
       "      <td>39.0</td>\n",
       "      <td>69.0</td>\n",
       "    </tr>\n",
       "    <tr>\n",
       "      <th>8</th>\n",
       "      <td>0.551862</td>\n",
       "      <td>0.266290</td>\n",
       "      <td>-0.682396</td>\n",
       "      <td>0.197067</td>\n",
       "      <td>0.391487</td>\n",
       "      <td>-1.078976</td>\n",
       "      <td>-0.188427</td>\n",
       "      <td>0.138186</td>\n",
       "      <td>0.352348</td>\n",
       "      <td>0.867361</td>\n",
       "      <td>1.274168</td>\n",
       "      <td>0.485447</td>\n",
       "      <td>-0.304640</td>\n",
       "      <td>-0.209669</td>\n",
       "      <td>-0.811762</td>\n",
       "      <td>0.093362</td>\n",
       "      <td>-0.486628</td>\n",
       "      <td>-0.341476</td>\n",
       "      <td>-0.936117</td>\n",
       "      <td>-0.234589</td>\n",
       "      <td>-0.574582</td>\n",
       "      <td>-0.381555</td>\n",
       "      <td>0.069976</td>\n",
       "      <td>-0.876651</td>\n",
       "      <td>0.693516</td>\n",
       "      <td>-0.261753</td>\n",
       "      <td>-0.887265</td>\n",
       "      <td>-1.072722</td>\n",
       "      <td>-0.082722</td>\n",
       "      <td>-0.149057</td>\n",
       "      <td>0.514862</td>\n",
       "      <td>0.324211</td>\n",
       "      <td>0.647632</td>\n",
       "      <td>1.103265</td>\n",
       "      <td>-0.278834</td>\n",
       "      <td>-0.813007</td>\n",
       "      <td>-0.690414</td>\n",
       "      <td>-0.036474</td>\n",
       "      <td>-0.158277</td>\n",
       "      <td>-0.171314</td>\n",
       "      <td>-0.589620</td>\n",
       "      <td>0.397452</td>\n",
       "      <td>0.946377</td>\n",
       "      <td>1.872441</td>\n",
       "      <td>0.769014</td>\n",
       "      <td>0.512346</td>\n",
       "      <td>-0.239220</td>\n",
       "      <td>0.210632</td>\n",
       "      <td>0.898921</td>\n",
       "      <td>-0.514476</td>\n",
       "      <td>0.325831</td>\n",
       "      <td>0.169457</td>\n",
       "      <td>0.857316</td>\n",
       "      <td>0.377094</td>\n",
       "      <td>-0.634279</td>\n",
       "      <td>-0.439895</td>\n",
       "      <td>-0.979718</td>\n",
       "      <td>0.115130</td>\n",
       "      <td>-0.617778</td>\n",
       "      <td>-0.845167</td>\n",
       "      <td>1.138133</td>\n",
       "      <td>0.542507</td>\n",
       "      <td>-0.202676</td>\n",
       "      <td>0.145491</td>\n",
       "      <td>-0.461211</td>\n",
       "      <td>1.688605</td>\n",
       "      <td>-1.082404</td>\n",
       "      <td>0.589089</td>\n",
       "      <td>-0.501144</td>\n",
       "      <td>0.079840</td>\n",
       "      <td>1.170677</td>\n",
       "      <td>-0.579349</td>\n",
       "      <td>2.030296</td>\n",
       "      <td>-0.495485</td>\n",
       "      <td>-0.329919</td>\n",
       "      <td>1.473795</td>\n",
       "      <td>0.216643</td>\n",
       "      <td>-1.408381</td>\n",
       "      <td>1.425603</td>\n",
       "      <td>-0.223422</td>\n",
       "      <td>0.269399</td>\n",
       "      <td>0.585018</td>\n",
       "      <td>-1.152036</td>\n",
       "      <td>0.109383</td>\n",
       "      <td>1.049156</td>\n",
       "      <td>-0.243598</td>\n",
       "      <td>-0.066505</td>\n",
       "      <td>0.191005</td>\n",
       "      <td>0.080104</td>\n",
       "      <td>0.275406</td>\n",
       "      <td>86.0</td>\n",
       "      <td>84.0</td>\n",
       "    </tr>\n",
       "  </tbody>\n",
       "</table>"
      ],
      "text/plain": [
       "<IPython.core.display.HTML object>"
      ]
     },
     "metadata": {},
     "output_type": "display_data"
    }
   ],
   "source": [
    "learn.show_results()"
   ]
  },
  {
   "cell_type": "code",
   "execution_count": 40,
   "metadata": {},
   "outputs": [
    {
     "data": {
      "image/png": "[encoded data removed]",
      "text/plain": [
       "<Figure size 864x288 with 2 Axes>"
      ]
     },
     "metadata": {
      "needs_background": "light"
     },
     "output_type": "display_data"
    }
   ],
   "source": [
    "learn.recorder.plot_sched()"
   ]
  },
  {
   "cell_type": "code",
   "execution_count": 27,
   "metadata": {},
   "outputs": [],
   "source": [
    "learn.export(ROOT_PATH/\"models/tabular_net.pkl\")"
   ]
  },
  {
   "cell_type": "markdown",
   "metadata": {},
   "source": [
    "### Random Forrest"
   ]
  },
  {
   "cell_type": "markdown",
   "metadata": {},
   "source": [
    "Apply best practices from fastai book, i.e. setting max_samples to *200.000* if dealing with more than 200.000 samples"
   ]
  },
  {
   "cell_type": "code",
   "execution_count": 17,
   "metadata": {},
   "outputs": [],
   "source": [
    "rf_model = RandomForestClassifier(n_estimators=10, \n",
    "                                  max_samples=200_000, \n",
    "                                  max_features=0.5, \n",
    "                                  min_samples_leaf=4, \n",
    "                                  oob_score=True,\n",
    "                                  n_jobs=N_JOBS, \n",
    "                                  random_state=RANDOM_STATE)"
   ]
  },
  {
   "cell_type": "code",
   "execution_count": 18,
   "metadata": {},
   "outputs": [
    {
     "name": "stderr",
     "output_type": "stream",
     "text": [
      "/home/ec2-user/anaconda3/envs/fastai/lib/python3.6/site-packages/sklearn/ensemble/_forest.py:540: UserWarning: Some inputs do not have OOB scores. This probably means too few trees were used to compute any reliable oob estimates.\n",
      "  warn(\"Some inputs do not have OOB scores. \"\n",
      "/home/ec2-user/anaconda3/envs/fastai/lib/python3.6/site-packages/sklearn/ensemble/_forest.py:545: RuntimeWarning: invalid value encountered in true_divide\n",
      "  predictions[k].sum(axis=1)[:, np.newaxis])\n"
     ]
    },
    {
     "data": {
      "text/plain": [
       "RandomForestClassifier(max_features=0.5, max_samples=200000, min_samples_leaf=4,\n",
       "                       n_estimators=10, n_jobs=-1, oob_score=True,\n",
       "                       random_state=1337)"
      ]
     },
     "execution_count": 18,
     "metadata": {},
     "output_type": "execute_result"
    }
   ],
   "source": [
    "rf_model.fit(X_train, y_train)"
   ]
  },
  {
   "cell_type": "code",
   "execution_count": 19,
   "metadata": {},
   "outputs": [],
   "source": [
    "y_pred_valid = rf_model.predict(X_valid)"
   ]
  },
  {
   "cell_type": "code",
   "execution_count": 24,
   "metadata": {},
   "outputs": [
    {
     "data": {
      "text/plain": [
       "0.08816837928468994"
      ]
     },
     "execution_count": 24,
     "metadata": {},
     "output_type": "execute_result"
    }
   ],
   "source": [
    "accuracy_score(y_valid, y_pred_valid)"
   ]
  }
 ],
 "metadata": {
  "kernelspec": {
   "display_name": "conda_fastai_p38",
   "language": "python",
   "name": "conda_fastai_p38"
  },
  "language_info": {
   "codemirror_mode": {
    "name": "ipython",
    "version": 3
   },
   "file_extension": ".py",
   "mimetype": "text/x-python",
   "name": "python",
   "nbconvert_exporter": "python",
   "pygments_lexer": "ipython3",
   "version": "3.8.6"
  }
 },
 "nbformat": 4,
 "nbformat_minor": 4
}
